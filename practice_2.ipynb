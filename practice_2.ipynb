{
  "cells": [
    {
      "cell_type": "markdown",
      "metadata": {
        "id": "p9wwt0LZzNvn"
      },
      "source": [
        "# I. Змінні та памʼять."
      ]
    },
    {
      "cell_type": "markdown",
      "metadata": {
        "id": "HTJrrm95xSV9"
      },
      "source": [
        "1. Створити змінні, що посилаються на два цілих числа, що однакові за значенням, де значення належить проміжку від -5 до 256. Перевірте, чи будуть ці змінні рівні тільки за значенням або ж ще будуть посилатися на один і той самий обʼєкт в памʼяті? Наведіть код та дайте текстову відповідь нижче."
      ]
    },
    {
      "cell_type": "code",
      "execution_count": 50,
      "metadata": {
        "colab": {
          "base_uri": "https://localhost:8080/"
        },
        "id": "TATni2vzayjG",
        "outputId": "409e6c2d-52f2-49bf-eb4a-003323ae60ab"
      },
      "outputs": [
        {
          "name": "stdout",
          "output_type": "stream",
          "text": [
            "Value of 111 and 111 is equal: True\n",
            "Id of 111 and 111 are the same: True\n"
          ]
        }
      ],
      "source": [
        "a = 111\n",
        "b = 111\n",
        "\n",
        "def is_equal_val(num1, num2):\n",
        "    return num1 == num2\n",
        "\n",
        "def is_equal_id(num1, num2):\n",
        "    return id(num1) == id(num2)\n",
        "\n",
        "print(f\"Value of {a} and {b} is equal: {is_equal_val(a, b)}\")\n",
        "print(f\"Id of {a} and {b} are the same: {is_equal_id(a, b)}\")"
      ]
    },
    {
      "cell_type": "markdown",
      "metadata": {
        "id": "zfRG_o3WbRdg"
      },
      "source": [
        "Змінні a та b будуть рівні як за значенням, так і за ідентифікатором. Так як Python кешує цілі числа в діапазоні від -5 до 256, тож два різні ідентифікатори отримують однакове значення і вони будуть посилатися на той самий об'єкт у пам'яті. Це дозволяє економити пам'ять та прискорювати операції."
      ]
    },
    {
      "cell_type": "markdown",
      "metadata": {
        "id": "ISORzt6M3vAt"
      },
      "source": [
        "2. За допомогою якої функції можна перевірити належність змінної до вказаного типу даних (напр. чи змінна True посилається на значення булевого та цілочисленого типу)?"
      ]
    },
    {
      "cell_type": "code",
      "execution_count": 2,
      "metadata": {
        "colab": {
          "base_uri": "https://localhost:8080/"
        },
        "id": "9vL9CFaMbfyo",
        "outputId": "e9a873bc-82f2-4c2d-ebe0-b94bb4dc147f"
      },
      "outputs": [
        {
          "data": {
            "text/plain": [
              "True"
            ]
          },
          "execution_count": 2,
          "metadata": {},
          "output_type": "execute_result"
        }
      ],
      "source": [
        "a = True\n",
        "isinstance(a, bool)"
      ]
    },
    {
      "cell_type": "code",
      "execution_count": 3,
      "metadata": {
        "colab": {
          "base_uri": "https://localhost:8080/"
        },
        "id": "TiMgqYDc97KV",
        "outputId": "ecf25294-f75c-4d79-d89f-c84eadf80c9c"
      },
      "outputs": [
        {
          "data": {
            "text/plain": [
              "True"
            ]
          },
          "execution_count": 3,
          "metadata": {},
          "output_type": "execute_result"
        }
      ],
      "source": [
        "isinstance(a, int)"
      ]
    },
    {
      "cell_type": "code",
      "execution_count": 4,
      "metadata": {
        "colab": {
          "base_uri": "https://localhost:8080/"
        },
        "id": "_po4GD2O-Ba_",
        "outputId": "3df9fa9b-1915-4e75-a808-4377610ac54e"
      },
      "outputs": [
        {
          "data": {
            "text/plain": [
              "False"
            ]
          },
          "execution_count": 4,
          "metadata": {},
          "output_type": "execute_result"
        }
      ],
      "source": [
        "isinstance(a, float)"
      ]
    },
    {
      "cell_type": "markdown",
      "metadata": {
        "id": "tRxugKAxwYLw"
      },
      "source": [
        "# II. Цілі числа та числа з рухомою комою"
      ]
    },
    {
      "cell_type": "markdown",
      "metadata": {
        "id": "NLHkgd5Gybc8"
      },
      "source": [
        "3. Створити дві змінні, що посилаються на будь-які ціле число та число з рухомою комою та продемонструвати такі арифметичні операції: додавання, віднімання, ділення, множення, ділення без залишку, ділення по модулю, приведення до ступеню. Всі результати операцій вивести на екран."
      ]
    },
    {
      "cell_type": "code",
      "execution_count": 5,
      "metadata": {
        "colab": {
          "base_uri": "https://localhost:8080/"
        },
        "id": "nb8u_3pjb2cA",
        "outputId": "fc3378cc-39e5-4006-c679-bc94a9137c31"
      },
      "outputs": [
        {
          "name": "stdout",
          "output_type": "stream",
          "text": [
            "Sum: 4.5\n",
            "Subtraction: 0.5\n",
            "Division: 1.25\n",
            "Multiply: 5.0\n",
            "Floor division: 1.0\n",
            "Modus: 0.5\n",
            "Exponentiation: 6.25\n"
          ]
        }
      ],
      "source": [
        "a = 2.5\n",
        "b = 2\n",
        "\n",
        "sum = a + b\n",
        "sub = a - b\n",
        "div = a / b\n",
        "mult = a * b\n",
        "flor_div = a // b\n",
        "mod = a % b\n",
        "exp = a ** b\n",
        "\n",
        "print(f\"Sum: {sum}\\nSubtraction: {sub}\\nDivision: {div}\\nMultiply: {mult}\\nFloor division: {flor_div}\\nModus: {mod}\\nExponentiation: {exp}\")\n"
      ]
    },
    {
      "cell_type": "markdown",
      "metadata": {
        "id": "1kBClKgPzZnC"
      },
      "source": [
        "4. Використовуючи змінні з вправи 3, продемонструйте механізм явного перетворення типів, де числа з рухомою комою перетворюються на цілі числа. Також визначте змінну, що посилається на значення булевого типу і спробуйте явно привести її до цілого числа."
      ]
    },
    {
      "cell_type": "code",
      "execution_count": 6,
      "metadata": {
        "colab": {
          "base_uri": "https://localhost:8080/"
        },
        "id": "ILr-WdrZRLaI",
        "outputId": "ab7bd3c1-952a-4ed6-8f79-e833cf2e6d92"
      },
      "outputs": [
        {
          "name": "stdout",
          "output_type": "stream",
          "text": [
            "2\n"
          ]
        }
      ],
      "source": [
        "print(int(a))"
      ]
    },
    {
      "cell_type": "code",
      "execution_count": 7,
      "metadata": {
        "colab": {
          "base_uri": "https://localhost:8080/"
        },
        "id": "CI5uuTNBRbKy",
        "outputId": "dea38690-322b-40de-a9f8-8ba8630b6c45"
      },
      "outputs": [
        {
          "name": "stdout",
          "output_type": "stream",
          "text": [
            "1\n"
          ]
        }
      ],
      "source": [
        "bool_val = True\n",
        "print(int(bool_val))"
      ]
    },
    {
      "cell_type": "markdown",
      "metadata": {
        "id": "EVJ7AflwxrZi"
      },
      "source": [
        "# IІІ. Рядки (String)."
      ]
    },
    {
      "cell_type": "markdown",
      "metadata": {
        "id": "_s5ECzz9zE61"
      },
      "source": [
        "5. Створити пустий рядок двома різними способами."
      ]
    },
    {
      "cell_type": "code",
      "execution_count": 8,
      "metadata": {
        "colab": {
          "base_uri": "https://localhost:8080/"
        },
        "id": "fkZJHu9Scvc-",
        "outputId": "0dd3374d-997d-4b7a-fed3-234556db886b"
      },
      "outputs": [
        {
          "name": "stdout",
          "output_type": "stream",
          "text": [
            "\n"
          ]
        }
      ],
      "source": [
        "empty = ''\n",
        "empty_2 = str()\n",
        "\n",
        "print(empty)"
      ]
    },
    {
      "cell_type": "code",
      "execution_count": 9,
      "metadata": {
        "colab": {
          "base_uri": "https://localhost:8080/"
        },
        "id": "hjU7G4tutE1t",
        "outputId": "d564cb73-00a6-4343-cc0a-5b9f4305f4ae"
      },
      "outputs": [
        {
          "name": "stdout",
          "output_type": "stream",
          "text": [
            "\n"
          ]
        }
      ],
      "source": [
        "print(empty_2)"
      ]
    },
    {
      "cell_type": "markdown",
      "metadata": {
        "id": "4Bdn9J3MzLf_"
      },
      "source": [
        "6. Створити рядок з апострофом. Зробити його сирим. Вивести обидва рядка на екран."
      ]
    },
    {
      "cell_type": "code",
      "execution_count": 10,
      "metadata": {
        "colab": {
          "base_uri": "https://localhost:8080/"
        },
        "id": "ivji_hsmc0GH",
        "outputId": "aea8cd4c-f18a-4e16-acb8-6aaddf95aab2"
      },
      "outputs": [
        {
          "name": "stdout",
          "output_type": "stream",
          "text": [
            "It's a beautiful day!\n",
            "It\\'s a beautiful day!\n"
          ]
        }
      ],
      "source": [
        "normal_str = 'It\\'s a beautiful day!'\n",
        "raw_str = r'It\\'s a beautiful day!'\n",
        "\n",
        "print(normal_str)\n",
        "print(raw_str)"
      ]
    },
    {
      "cell_type": "markdown",
      "metadata": {
        "id": "bg_d8wM4z8dS"
      },
      "source": [
        "7. Створити змінну, що буде посилатися на Ваше прізвище латинкою. Створити форматований рядок, який буде мати вигляд \"My surname is ______\", де на місці нижніх підкреслень буде Ваше прізвище зі змінної."
      ]
    },
    {
      "cell_type": "code",
      "execution_count": 11,
      "metadata": {
        "colab": {
          "base_uri": "https://localhost:8080/"
        },
        "id": "kuxFgpWndACq",
        "outputId": "58659914-2f40-47f3-fbe1-f7d347ff1761"
      },
      "outputs": [
        {
          "name": "stdout",
          "output_type": "stream",
          "text": [
            "My surname is Dermenzhy\n"
          ]
        }
      ],
      "source": [
        "surname = \"Dermenzhy\"\n",
        "print(f\"My surname is {surname}\")"
      ]
    },
    {
      "cell_type": "markdown",
      "metadata": {
        "id": "1Nc6RqvQ0hxU"
      },
      "source": [
        "8. Маючи рядок \"My dog is crazy.\" перетворити його на список [\"my\", \"dog\", \"is\", \"crazy\"]"
      ]
    },
    {
      "cell_type": "code",
      "execution_count": 12,
      "metadata": {
        "colab": {
          "base_uri": "https://localhost:8080/"
        },
        "id": "w1Ya4RqedUhw",
        "outputId": "f15f5d59-e82b-4174-c84d-c11001015de1"
      },
      "outputs": [
        {
          "name": "stdout",
          "output_type": "stream",
          "text": [
            "['my', 'dog', 'is', 'crazy.']\n"
          ]
        }
      ],
      "source": [
        "str = \"My dog is crazy.\"\n",
        "\n",
        "word_list = str.lower().split()\n",
        "print(word_list)"
      ]
    },
    {
      "cell_type": "markdown",
      "metadata": {
        "id": "GYVqN9uP1D4n"
      },
      "source": [
        "# IV. Робота зі списками."
      ]
    },
    {
      "cell_type": "markdown",
      "metadata": {
        "id": "7-DeDunw2sO-"
      },
      "source": [
        "9. Створити список двома різними за синтаксисом способами. За допомогою вбудованої функції обчисліть довжину одного з них."
      ]
    },
    {
      "cell_type": "code",
      "execution_count": 21,
      "metadata": {
        "colab": {
          "base_uri": "https://localhost:8080/"
        },
        "id": "zxg06Uuxdyoh",
        "outputId": "9c7104fe-4c49-4b5e-d5c2-8071c772e244"
      },
      "outputs": [
        {
          "name": "stdout",
          "output_type": "stream",
          "text": [
            "First list ['first', 'list'] and length is 2\n",
            "Second list ['and', 'second', 'list'] and length is 3\n"
          ]
        }
      ],
      "source": [
        "list_1 = [\"first\", \"list\"]\n",
        "list_2 = list((\"and\", \"second\", \"list\"))\n",
        "print(f\"First list {list_1} and length is {len(list_1)}\")\n",
        "print(f\"Second list {list_2} and length is {len(list_2)}\")"
      ]
    },
    {
      "cell_type": "markdown",
      "metadata": {
        "id": "8vmGUTjL22gI"
      },
      "source": [
        "10. Створіть два списка та за допомогою спеціального методу додайте другий з них в якості останнього елемента першого."
      ]
    },
    {
      "cell_type": "code",
      "execution_count": 22,
      "metadata": {
        "colab": {
          "base_uri": "https://localhost:8080/"
        },
        "id": "uHtjWYw7d7hm",
        "outputId": "2adc5a53-15db-4405-8a47-e5ce42d55ad2"
      },
      "outputs": [
        {
          "name": "stdout",
          "output_type": "stream",
          "text": [
            "[1, 2, 3, [4, 5, 6]]\n"
          ]
        }
      ],
      "source": [
        "main_list = [1, 2, 3]\n",
        "sub_list = [4, 5, 6]\n",
        "\n",
        "main_list.append(sub_list)\n",
        "\n",
        "print(main_list)"
      ]
    },
    {
      "cell_type": "markdown",
      "metadata": {
        "id": "JC3BkD-67_--"
      },
      "source": [
        "11. Створіть список, де елементами цього списку також є списки. Отримай перший елемент з останнього рядка та виведи значення на екран."
      ]
    },
    {
      "cell_type": "code",
      "execution_count": 23,
      "metadata": {
        "colab": {
          "base_uri": "https://localhost:8080/"
        },
        "id": "Kz2jZHsGeLlz",
        "outputId": "4b6c759c-d344-41b0-ab9e-8628eeb31ea0"
      },
      "outputs": [
        {
          "name": "stdout",
          "output_type": "stream",
          "text": [
            "7\n"
          ]
        }
      ],
      "source": [
        "nested_list = [[1, 2, 3], [4, 5, 6], [7, 8, 9]]\n",
        "print(nested_list[-1][0])"
      ]
    },
    {
      "cell_type": "markdown",
      "metadata": {
        "id": "JA47PKTv8zFK"
      },
      "source": [
        "12. Створіть список з десяти елементів різного типу. Отримайте всі елементи, окрім двох перших та двох останніх та збережіть їх в новій змінній."
      ]
    },
    {
      "cell_type": "code",
      "execution_count": 27,
      "metadata": {
        "colab": {
          "base_uri": "https://localhost:8080/"
        },
        "id": "_rHdUR-ueP4-",
        "outputId": "ac081426-01f7-4b85-a39f-17d22dc44c54"
      },
      "outputs": [
        {
          "name": "stdout",
          "output_type": "stream",
          "text": [
            "[1, 'two', 3.0, [4, 5], (6, 7), {'a': 8, 'b': 9}]\n"
          ]
        }
      ],
      "source": [
        "multy_list = [None, False, 1, \"two\", 3.0, [4,5], (6,7), {\"a\": 8, \"b\": 9}, {10, 11, 12}, bytes([13]) ]\n",
        "\n",
        "new_list = multy_list[2:-2]\n",
        "\n",
        "print(new_list)\n"
      ]
    },
    {
      "cell_type": "markdown",
      "metadata": {
        "id": "pCjR1dJb1Qbi"
      },
      "source": [
        "# V. Робота з кортежами."
      ]
    },
    {
      "cell_type": "markdown",
      "metadata": {
        "id": "fAZCxAX06R_k"
      },
      "source": [
        "14. Створити кортеж з один елементом."
      ]
    },
    {
      "cell_type": "code",
      "execution_count": 37,
      "metadata": {
        "colab": {
          "base_uri": "https://localhost:8080/"
        },
        "id": "H7d82WkQev3e",
        "outputId": "9876a8a8-ca59-498a-b62a-3b9cf5763432"
      },
      "outputs": [
        {
          "name": "stdout",
          "output_type": "stream",
          "text": [
            "True\n"
          ]
        }
      ],
      "source": [
        "one_el = (1, )\n",
        "\n",
        "is_instance = isinstance(one_el, tuple)\n",
        "print(is_instance)"
      ]
    },
    {
      "cell_type": "markdown",
      "metadata": {
        "id": "8LCtYcmI6w1M"
      },
      "source": [
        "15. Порівняйте список та кортеж. Назвіть схожості та відмінності, випадки використання."
      ]
    },
    {
      "cell_type": "markdown",
      "metadata": {
        "id": "fUsN1Hnue0C6"
      },
      "source": [
        "Кортежі і списки є впорядкованими послідовністями елементів. Кортежі відрізняються тим, що відносяться до незмінних типів даних(immutable). Тобто, кортеж - це список, елементи якого не можна змінити.\n",
        "Cхожим є те, що вони підтримують індексацію, зрізи, дозволяють зберігати у собі дублікати та різні за типом елементи."
      ]
    },
    {
      "cell_type": "markdown",
      "metadata": {
        "id": "m0xrwFijAmDD"
      },
      "source": [
        "16. Створіть кортеж з 11ти елементів чисел з рухомою комою та отримайте кожен парний за індексом елемент в зворотньому порядку. Наприклад, маючи (1.2, 2.3, 3.3, 4.3, 5.3, 6.3, 7.3, 8.3, 9.3, 0.3), отримати (0.3, 8.3, 6.3, 4.3, 2.3). Результат збережіть в нову змінну та виведіть на екран."
      ]
    },
    {
      "cell_type": "code",
      "execution_count": 40,
      "metadata": {
        "colab": {
          "base_uri": "https://localhost:8080/"
        },
        "id": "p-5DAH6XfAGA",
        "outputId": "79bb5584-8ed3-4c8f-c79e-a3d1ef460661"
      },
      "outputs": [
        {
          "name": "stdout",
          "output_type": "stream",
          "text": [
            "(0.3, 8.3, 6.3, 4.3, 2.3)\n"
          ]
        }
      ],
      "source": [
        "tuple_num = (1.2, 2.3, 3.3, 4.3, 5.3, 6.3, 7.3, 8.3, 9.3, 0.3)\n",
        "new_tuple = tuple_num[::-1][::2]\n",
        "\n",
        "print(new_tuple)"
      ]
    },
    {
      "cell_type": "markdown",
      "metadata": {
        "id": "rW_I9dt3x6cW"
      },
      "source": [
        "# VI. Множини (Set)."
      ]
    },
    {
      "cell_type": "markdown",
      "metadata": {
        "id": "zNjRLHLw1Bgg"
      },
      "source": [
        "17. Створити множину без елементів. Після цого за допомогою методу додайте кілька різних елементів до множини. Чи множини є змінним типом даних?"
      ]
    },
    {
      "cell_type": "code",
      "execution_count": null,
      "metadata": {
        "colab": {
          "base_uri": "https://localhost:8080/"
        },
        "id": "KOv7zc2Kfo4N",
        "outputId": "d296078f-cedd-41a6-b259-c06da44e53df"
      },
      "outputs": [
        {
          "name": "stdout",
          "output_type": "stream",
          "text": [
            "132446760434176\n",
            "132446760434176\n",
            "{1, 2, 3}\n"
          ]
        }
      ],
      "source": [
        "empty_set = set()\n",
        "print(id(empty_set))\n",
        "\n",
        "empty_set.add(1)\n",
        "empty_set.add(2)\n",
        "empty_set.add(3)\n",
        "\n",
        "print(id(empty_set))\n",
        "print(empty_set)\n"
      ]
    },
    {
      "cell_type": "markdown",
      "metadata": {
        "id": "vxS6dVYiftZQ"
      },
      "source": [
        "Множини є змінним типом даних (mutable), оскільки після додавання або видалення елементів вони залишаються в тій самій комірці пам’яті. Це підтверджує, що множина змінюється без створення нового об'єкта."
      ]
    },
    {
      "cell_type": "markdown",
      "metadata": {
        "id": "gHpT0Zw_1HEF"
      },
      "source": [
        "18. Створити множину, маючи список my_list = [1, 1, 2, 67, 67, 8, 9]. Пояснити, чому \"зникли\" деякі елементи."
      ]
    },
    {
      "cell_type": "code",
      "execution_count": null,
      "metadata": {
        "colab": {
          "base_uri": "https://localhost:8080/"
        },
        "id": "qCN4uvJ_fxmu",
        "outputId": "f38c73fb-ab7a-4858-97e5-915417c8a583"
      },
      "outputs": [
        {
          "name": "stdout",
          "output_type": "stream",
          "text": [
            "{1, 2, 67, 8, 9}\n"
          ]
        }
      ],
      "source": [
        "my_list = [1, 1, 2, 67, 67, 8, 9]\n",
        "list_to_set = set(my_list)\n",
        "\n",
        "print(list_to_set)"
      ]
    },
    {
      "cell_type": "markdown",
      "metadata": {
        "id": "tFNc1e20fyny"
      },
      "source": [
        "Бо множини містять у собі лише унікальні елементи без дублікатів."
      ]
    },
    {
      "cell_type": "markdown",
      "metadata": {
        "id": "SRMkGizS1UwY"
      },
      "source": [
        "19. Створіть дві множини. Продемонстуйте над ними операції: обʼєднання, різниці, пересічі та симетричної різниці. Використовуйте методи, що не змінюють множини, а створюють нові."
      ]
    },
    {
      "cell_type": "code",
      "execution_count": null,
      "metadata": {
        "colab": {
          "base_uri": "https://localhost:8080/"
        },
        "id": "h0T-VuDnf3Ri",
        "outputId": "c3d9cbb3-54f8-4185-b3c2-57a163131169"
      },
      "outputs": [
        {
          "name": "stdout",
          "output_type": "stream",
          "text": [
            "Union: {1, 2, 3, 4, 5, 6, 7, 8}\n",
            "Difference: {1, 2, 3}\n",
            "Intersection: {4, 5}\n",
            "Symmetric difference: {1, 2, 3, 6, 7, 8}\n"
          ]
        }
      ],
      "source": [
        "first_set = {1, 2, 3, 4, 5}\n",
        "second_set = {4, 5, 6, 7, 8}\n",
        "\n",
        "union = first_set.union(second_set)\n",
        "difference = first_set.difference(second_set)\n",
        "intersection = first_set.intersection(second_set)\n",
        "symmetric_difference = first_set.symmetric_difference(second_set)\n",
        "\n",
        "print(f\"Union: {union}\\nDifference: {difference}\\nIntersection: {intersection}\\nSymmetric difference: {symmetric_difference}\")"
      ]
    },
    {
      "cell_type": "markdown",
      "metadata": {
        "id": "kWc8gkzTx7Ea"
      },
      "source": [
        "# VII. Словники (Dictionary)."
      ]
    },
    {
      "cell_type": "markdown",
      "metadata": {
        "id": "i5FLwj-B2ybQ"
      },
      "source": [
        "20. Створіть пустий словник. До нього додайте чотири пари елементів такі, щоб їхні ключі були різних типів. Чи може список бути ключем? Чому?"
      ]
    },
    {
      "cell_type": "code",
      "execution_count": 46,
      "metadata": {
        "colab": {
          "base_uri": "https://localhost:8080/"
        },
        "id": "hxgv3BzrgLAV",
        "outputId": "df348b35-0bc1-4839-d8d0-3a16db7219f2"
      },
      "outputs": [
        {
          "name": "stdout",
          "output_type": "stream",
          "text": [
            "{'name': 'cloud', 'color': 'blue', 'size': 'small', 'amount': '4'}\n"
          ]
        }
      ],
      "source": [
        "new_dict = {}\n",
        "\n",
        "new_dict.update({\"name\" : \"cloud\"})\n",
        "new_dict.update({\"color\" : \"blue\"})\n",
        "new_dict.update({\"size\" : \"small\"})\n",
        "new_dict.update({\"amount\" : \"4\"})\n",
        "\n",
        "print(new_dict)"
      ]
    },
    {
      "cell_type": "markdown",
      "metadata": {
        "id": "zwa7UVN-gR3m"
      },
      "source": [
        "Список не може бути ключем у словнику, оскільки ключі мають бути незмінними, а список є змінним."
      ]
    },
    {
      "cell_type": "markdown",
      "metadata": {
        "id": "WM_pMlJsgoNf"
      },
      "source": [
        "21. Створіть словник, де значенням в одній з пар теж буде словник, який теж має вкладений словник. Виведіть на екран значення, що міститься в словнику, що знаходиться на найнижчому рівні ієрархії вкладеності (найбільш внутрішній)."
      ]
    },
    {
      "cell_type": "code",
      "execution_count": 48,
      "metadata": {
        "colab": {
          "base_uri": "https://localhost:8080/"
        },
        "id": "60dlP7IHhAy4",
        "outputId": "d1579cfe-695b-45bc-9bf7-ab6b51503b9c"
      },
      "outputs": [
        {
          "name": "stdout",
          "output_type": "stream",
          "text": [
            "{'material': 'cardboard', 'weight': 2.5}\n"
          ]
        }
      ],
      "source": [
        "nested_dict = {\n",
        "    \"name\": \"box\",\n",
        "    \"details\": {\n",
        "        \"measurements\": {\n",
        "            \"height\": 35,\n",
        "            \"length\": 115,\n",
        "            \"width\": 50,\n",
        "            \"inner\": {\n",
        "                \"material\": \"cardboard\",\n",
        "                \"weight\": 2.5\n",
        "            }\n",
        "        }\n",
        "    }\n",
        "}\n",
        "\n",
        "filt_dict = nested_dict[\"details\"][\"measurements\"][\"inner\"]\n",
        "print(filt_dict)"
      ]
    }
  ],
  "metadata": {
    "colab": {
      "provenance": []
    },
    "kernelspec": {
      "display_name": "Python 3",
      "name": "python3"
    },
    "language_info": {
      "name": "python"
    }
  },
  "nbformat": 4,
  "nbformat_minor": 0
}
