{
  "nbformat": 4,
  "nbformat_minor": 0,
  "metadata": {
    "colab": {
      "provenance": []
    },
    "kernelspec": {
      "name": "python3",
      "display_name": "Python 3"
    },
    "language_info": {
      "name": "python"
    }
  },
  "cells": [
    {
      "cell_type": "markdown",
      "source": [
        "# I. Functions. Arguments."
      ],
      "metadata": {
        "id": "kXpppdVm6wFy"
      }
    },
    {
      "cell_type": "markdown",
      "source": [
        "1. (5б) Назвіть основні 4 смислові  частини, з яких складається функція."
      ],
      "metadata": {
        "id": "u_krJdlbAkVz"
      }
    },
    {
      "cell_type": "markdown",
      "source": [
        "ОСновні частини це заголовок функції, параметри функції(аргументи), тіло функції, повернення функції."
      ],
      "metadata": {
        "id": "KKTrTXmHAptb"
      }
    },
    {
      "cell_type": "markdown",
      "source": [
        "2. (3б) Визначте функцію, що приймає 2 аргументи та повертає результат ділення 1го аргумента на інший."
      ],
      "metadata": {
        "id": "ORM4PqJQAtDM"
      }
    },
    {
      "cell_type": "code",
      "execution_count": 1,
      "metadata": {
        "id": "EuDx-z8M6sLo"
      },
      "outputs": [],
      "source": [
        "def division(a, b):\n",
        "    return a / b\n"
      ]
    },
    {
      "cell_type": "markdown",
      "source": [
        "3. (2б) Викличте вище визначену функцію, де другий аргумент дорівнює 0."
      ],
      "metadata": {
        "id": "5joQGQ-SAyMe"
      }
    },
    {
      "cell_type": "code",
      "source": [
        "result = division(2, 0)\n",
        "print(result)"
      ],
      "metadata": {
        "id": "V5cBV1LOA3d-",
        "colab": {
          "base_uri": "https://localhost:8080/",
          "height": 232
        },
        "outputId": "09bcea19-8576-45ca-d3d5-ec8b4ee555df"
      },
      "execution_count": 2,
      "outputs": [
        {
          "output_type": "error",
          "ename": "ZeroDivisionError",
          "evalue": "division by zero",
          "traceback": [
            "\u001b[0;31m---------------------------------------------------------------------------\u001b[0m",
            "\u001b[0;31mZeroDivisionError\u001b[0m                         Traceback (most recent call last)",
            "\u001b[0;32m<ipython-input-2-067f1ed0fae9>\u001b[0m in \u001b[0;36m<cell line: 0>\u001b[0;34m()\u001b[0m\n\u001b[0;32m----> 1\u001b[0;31m \u001b[0mresult\u001b[0m \u001b[0;34m=\u001b[0m \u001b[0mdivision\u001b[0m\u001b[0;34m(\u001b[0m\u001b[0;36m2\u001b[0m\u001b[0;34m,\u001b[0m \u001b[0;36m0\u001b[0m\u001b[0;34m)\u001b[0m\u001b[0;34m\u001b[0m\u001b[0;34m\u001b[0m\u001b[0m\n\u001b[0m\u001b[1;32m      2\u001b[0m \u001b[0mprint\u001b[0m\u001b[0;34m(\u001b[0m\u001b[0mresult\u001b[0m\u001b[0;34m)\u001b[0m\u001b[0;34m\u001b[0m\u001b[0;34m\u001b[0m\u001b[0m\n",
            "\u001b[0;32m<ipython-input-1-d012b66df33b>\u001b[0m in \u001b[0;36mdivision\u001b[0;34m(a, b)\u001b[0m\n\u001b[1;32m      1\u001b[0m \u001b[0;32mdef\u001b[0m \u001b[0mdivision\u001b[0m\u001b[0;34m(\u001b[0m\u001b[0ma\u001b[0m\u001b[0;34m,\u001b[0m \u001b[0mb\u001b[0m\u001b[0;34m)\u001b[0m\u001b[0;34m:\u001b[0m\u001b[0;34m\u001b[0m\u001b[0;34m\u001b[0m\u001b[0m\n\u001b[0;32m----> 2\u001b[0;31m     \u001b[0;32mreturn\u001b[0m \u001b[0ma\u001b[0m \u001b[0;34m/\u001b[0m \u001b[0mb\u001b[0m\u001b[0;34m\u001b[0m\u001b[0;34m\u001b[0m\u001b[0m\n\u001b[0m",
            "\u001b[0;31mZeroDivisionError\u001b[0m: division by zero"
          ]
        }
      ]
    },
    {
      "cell_type": "markdown",
      "source": [
        "![зображення.png](data:image/png;base64,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)"
      ],
      "metadata": {
        "id": "Cecyi9y00ES0"
      }
    },
    {
      "cell_type": "markdown",
      "source": [
        "4. (4б) Перевизначте функцію так, щоби у випадку ділення на 0 функція повертала None, а в решті випадків - результат розрахунків."
      ],
      "metadata": {
        "id": "QyimWgW8A43-"
      }
    },
    {
      "cell_type": "code",
      "source": [
        "def divide(a, b):\n",
        "    if b == 0:\n",
        "        return None\n",
        "    return a / b\n",
        "\n",
        "result = divide(2,0)\n",
        "print(result)"
      ],
      "metadata": {
        "colab": {
          "base_uri": "https://localhost:8080/"
        },
        "id": "HlM3oRvG0P_y",
        "outputId": "3204821f-ca22-4bcb-d6b3-a7cb309422cd"
      },
      "execution_count": 5,
      "outputs": [
        {
          "output_type": "stream",
          "name": "stdout",
          "text": [
            "None\n"
          ]
        }
      ]
    },
    {
      "cell_type": "markdown",
      "source": [
        "5. (5б) Визначте функцію, що віднімає одне число від іншого (підказка: це буде 2 аргументи функції). При чому, якщо не визначити, скільки саме має бути віднято від числа, за замовчуванням має відніматися 1. Викличте функцію, передаючи тільки один аргумент."
      ],
      "metadata": {
        "id": "Y8mN0GfkA81l"
      }
    },
    {
      "cell_type": "code",
      "source": [
        "def subtract(a, b = 1):\n",
        "    return a - b\n",
        "\n",
        "result = subtract(5)\n",
        "print(result)"
      ],
      "metadata": {
        "id": "vg1kxkdgBA50",
        "colab": {
          "base_uri": "https://localhost:8080/"
        },
        "outputId": "a142160f-c59c-4255-ba7a-0c13b2daf02d"
      },
      "execution_count": 6,
      "outputs": [
        {
          "output_type": "stream",
          "name": "stdout",
          "text": [
            "4\n"
          ]
        }
      ]
    },
    {
      "cell_type": "markdown",
      "source": [
        "6. (7б) Визначте функцію, яка приймає iterable (ітерабельний обʼєкт, напр. список), що складається з 7ми рядкових значень - назв погодних умов (напр. \"sunny\") за кожен день у тижні. Повертає функція словник, де ключами є рядки з погодними умовами, а значеннями - кількість разів, скільки дана погода була протягом тижня (напр. {'sunny': 1, ...}). Викличте цю функцію та виведіть результат її роботи на екран."
      ],
      "metadata": {
        "id": "D3mwQGNOBBs4"
      }
    },
    {
      "cell_type": "code",
      "source": [
        "def weather_count(week_weather):\n",
        "    result = {}\n",
        "    for condition in week_weather:\n",
        "        if condition in result:\n",
        "            result[condition] += 1\n",
        "        else:\n",
        "            result[condition] = 1\n",
        "    return result\n",
        "\n",
        "week = [\"sunny\", \"rainy\", \"sunny\", \"cloudy\", \"rainy\", \"sunny\", \"snowy\"]\n",
        "counted_weather = weather_count(week)\n",
        "print(counted_weather)\n"
      ],
      "metadata": {
        "id": "OsWm-hKcBFyn",
        "colab": {
          "base_uri": "https://localhost:8080/"
        },
        "outputId": "7528460e-3f0c-40ae-d2a8-7eb95b5b25e8"
      },
      "execution_count": 7,
      "outputs": [
        {
          "output_type": "stream",
          "name": "stdout",
          "text": [
            "{'sunny': 3, 'rainy': 2, 'cloudy': 1, 'snowy': 1}\n"
          ]
        }
      ]
    },
    {
      "cell_type": "markdown",
      "source": [
        "7. (15б) Напишіть програму, яка б шукала необхідне число у впорядкованому списку цілочислених значень, де\n",
        "число має вводитись з консолі.\n",
        "власне алгоритм пошуку винесений в окрему функцію, яка повертає булеве значення (знайдено число - True, не знайдено - False).\n",
        "в залежності від результату функції, виведіть на екран повідомлення про успішний або ж неуспішний пошук.\n",
        "Зауваження: використовувати оператор in заборонено."
      ],
      "metadata": {
        "id": "RMiCcdOsBKQT"
      }
    },
    {
      "cell_type": "code",
      "source": [
        "def binary_search(sorted_list, target):\n",
        "    left = 0\n",
        "    right = len(sorted_list) - 1\n",
        "\n",
        "    while left <= right:\n",
        "        mid = (left + right) // 2\n",
        "        if sorted_list[mid] == target:\n",
        "            return True\n",
        "        elif sorted_list[mid] < target:\n",
        "            left = mid + 1\n",
        "        else:\n",
        "            right = mid - 1\n",
        "    return False\n",
        "\n",
        "numbers = [1, 3, 5, 7, 9, 11, 13, 15, 17, 19]\n",
        "\n",
        "target_number = int(input(\"Enter number to search: \"))\n",
        "\n",
        "is_found = binary_search(numbers, target_number)\n",
        "\n",
        "if is_found:\n",
        "    print(\"The number is on the list!\")\n",
        "else:\n",
        "    print(\"The number wasn't found.\")\n"
      ],
      "metadata": {
        "id": "UNCZg65OBOy-",
        "colab": {
          "base_uri": "https://localhost:8080/"
        },
        "outputId": "955193eb-d0fd-4de9-a4a0-5fb9d6ecb304"
      },
      "execution_count": 8,
      "outputs": [
        {
          "output_type": "stream",
          "name": "stdout",
          "text": [
            "Enter number to search: 2\n",
            "The number wasn't found.\n"
          ]
        }
      ]
    },
    {
      "cell_type": "markdown",
      "source": [
        "# II. Lambda functions."
      ],
      "metadata": {
        "id": "Ae1n_OvLBTsy"
      }
    },
    {
      "cell_type": "markdown",
      "source": [
        "8. (4б) В яких випадках варто використовувати лямбда-функції?"
      ],
      "metadata": {
        "id": "xaD_wSlaCWen"
      }
    },
    {
      "cell_type": "markdown",
      "source": [
        "Лямда функції використовуться, якщо функція дуже проста і використовується тільки один раз або в обмеженому контексті, або функції з map(), filter(), sorted(), reduce()."
      ],
      "metadata": {
        "id": "42MB6OoLCakR"
      }
    },
    {
      "cell_type": "markdown",
      "source": [
        "9. (9б) Визначте список з рядками. Після цього визначте анонімну функцію для отримання першого символу у верхньому регістрі для кожного рядка списку.\n",
        "Підказка: використовуйте анонімну функцію в якості агрумента до вбудованої ф-ції, яка створена для застосування функцій над iterable обʼєктами. Результат виведіть на екран у вигляді кортежу."
      ],
      "metadata": {
        "id": "USrzrk7GCedk"
      }
    },
    {
      "cell_type": "code",
      "source": [
        "my_list = ['milk', 'octopus', 'november', 'drop', 'apple', 'yellow' ]\n",
        "\n",
        "first_letter_upper = tuple(map(lambda x: x[0].upper(), my_list))\n",
        "print(first_letter_upper)"
      ],
      "metadata": {
        "id": "M8QWUsMlCjWH",
        "colab": {
          "base_uri": "https://localhost:8080/"
        },
        "outputId": "113818e3-1c55-4d39-8490-9b3415d31175"
      },
      "execution_count": 9,
      "outputs": [
        {
          "output_type": "stream",
          "name": "stdout",
          "text": [
            "('M', 'O', 'N', 'D', 'A', 'Y')\n"
          ]
        }
      ]
    },
    {
      "cell_type": "markdown",
      "source": [
        "10. (10б) Визначте список з числовими значеннями (і цілими, і з рухомою комою). а) Відфільтруйте всі числа, які діляться націло на 3 за допомогою вбудованої функції та анонімної функції в якості аргумента). Збережіть результат у змінній, не приводяти явно до будь-якого типу. б) Використовуючи результат на кроці 12.а у якості аргументу, та за допомогою лямбда-функції в якості іншого аргументу до вбудованої функції, додайте до кожного елементу число 1 та опісля зведіть у квадрат. Остаточний результат приведіть явно до списку та виведіть на екран."
      ],
      "metadata": {
        "id": "9fyUhXOoCtGp"
      }
    },
    {
      "cell_type": "code",
      "source": [
        "nums = [3, 4.5, 6, 7, 9.0, 10, 12.3, 15]\n",
        "\n",
        "filtered = filter(lambda x: x % 3 == 0, nums)\n",
        "\n",
        "results = map(lambda x: (x + 1) ** 2, filtered)\n",
        "\n",
        "print(list(results))"
      ],
      "metadata": {
        "id": "exEx2_okCsql",
        "colab": {
          "base_uri": "https://localhost:8080/"
        },
        "outputId": "0b8b2305-70bc-4441-e950-6b238b5125b6"
      },
      "execution_count": 4,
      "outputs": [
        {
          "output_type": "stream",
          "name": "stdout",
          "text": [
            "[16, 49, 100.0, 256]\n"
          ]
        }
      ]
    },
    {
      "cell_type": "markdown",
      "source": [
        "# III. Decorators."
      ],
      "metadata": {
        "id": "o_x8cG_WC7jp"
      }
    },
    {
      "cell_type": "markdown",
      "source": [
        "11. (11б) Визначте декоратор, який би виводив у консоль повідомлення про початок роботи і назву функції (напр. my_function._ _ name _ _), а після відпрацювання функції - повідомлення про закінчення роботи і назву функції, що задекорована."
      ],
      "metadata": {
        "id": "mhxS4-mfC8LQ"
      }
    },
    {
      "cell_type": "code",
      "source": [
        "def log_function_execution(func):\n",
        "    def wrapper(*args, **kwargs):\n",
        "        print(f\"Starting execution of function: {func.__name__}\")\n",
        "        result = func(*args, **kwargs)\n",
        "        print(f\"Finished execution of function: {func.__name__}\")\n",
        "        return result\n",
        "    return wrapper\n",
        "\n",
        "@log_function_execution\n",
        "def my_function():\n",
        "    print(\"Function is running...\")\n",
        "\n",
        "my_function()"
      ],
      "metadata": {
        "id": "srd1ygWjDGhO",
        "colab": {
          "base_uri": "https://localhost:8080/"
        },
        "outputId": "872901a9-6f00-4544-97a8-2cb05d6a58a6"
      },
      "execution_count": 10,
      "outputs": [
        {
          "output_type": "stream",
          "name": "stdout",
          "text": [
            "Starting execution of function: my_function\n",
            "Function is running...\n",
            "Finished execution of function: my_function\n"
          ]
        }
      ]
    },
    {
      "cell_type": "markdown",
      "source": [
        "12. (4б) Задекоруйте двома різними способами функції з завдання 4 та 5 декоратором із завдання 11. (**УВАГА**: не декоруйте функції двічі!)."
      ],
      "metadata": {
        "id": "rxGZwVBiDph3"
      }
    },
    {
      "cell_type": "code",
      "source": [
        "#first method\n",
        "@log_decorator\n",
        "def divide(a, b):\n",
        "    if b == 0:\n",
        "        return None\n",
        "    return a / b\n",
        "\n",
        "def subtract(a, b = 1):\n",
        "    return a - b\n",
        "#second method\n",
        "decorated_subtract = log_decorator(subtract)\n",
        "\n",
        "print(decorated_subtract(6))"
      ],
      "metadata": {
        "id": "06lj7eq_DwZe",
        "colab": {
          "base_uri": "https://localhost:8080/"
        },
        "outputId": "61aba735-1eb4-4132-a3e8-45b698b871d4"
      },
      "execution_count": 18,
      "outputs": [
        {
          "output_type": "stream",
          "name": "stdout",
          "text": [
            "Starting function subtract\n",
            "Finished function subtract\n",
            "5\n"
          ]
        }
      ]
    },
    {
      "cell_type": "markdown",
      "source": [
        "13. (2б) Викличте одну з задекорованих функцій і виведіть її результат на екран."
      ],
      "metadata": {
        "id": "P0ep1urBDzf-"
      }
    },
    {
      "cell_type": "code",
      "source": [
        "print(f'Result {divide(10, 2)}')"
      ],
      "metadata": {
        "id": "1QvTw0ctD0S3",
        "colab": {
          "base_uri": "https://localhost:8080/"
        },
        "outputId": "6aec8a1e-754a-40b1-c128-4739f53a9778"
      },
      "execution_count": 17,
      "outputs": [
        {
          "output_type": "stream",
          "name": "stdout",
          "text": [
            "Starting function divide\n",
            "Finished function divide\n",
            "Result 5.0\n"
          ]
        }
      ]
    },
    {
      "cell_type": "markdown",
      "source": [
        "# IV. Recursion."
      ],
      "metadata": {
        "id": "poECCpuoD2S9"
      }
    },
    {
      "cell_type": "markdown",
      "source": [
        "14. (4б) Назвіть дві частини функції, які є обовʼязковими для того, щоб називати її рекурсивною."
      ],
      "metadata": {
        "id": "DqkURfdsD7MY"
      }
    },
    {
      "cell_type": "markdown",
      "source": [
        "Рекурсивна функція обов’язково повинна містити базовий випадок та рекурсивний виклик самої себе."
      ],
      "metadata": {
        "id": "HYW6ttIeIQIU"
      }
    },
    {
      "cell_type": "markdown",
      "source": [
        "15. (15б) Визначте функцію, яка рекурсивно реалізовує пошук числа у послідовності Фібоначчі за її індексом (нумерація починається з нуля). Наприклад, потрібно знайти перше число у послідовності, тоді функція прийматиме 0 у якості аргумента і повертатиме 1, якщо ж знаходити третє число (індекс 2) послідовності, то функція повертатиме 2, якщо ж знаходити десяте число (індекс 9), то функція повертатиме 55."
      ],
      "metadata": {
        "id": "WYVt20UmEA35"
      }
    },
    {
      "cell_type": "code",
      "source": [
        "def fibonacci(n):\n",
        "    if n == 0:\n",
        "        return 1\n",
        "    elif n == 1:\n",
        "        return 1\n",
        "    else:\n",
        "        return fibonacci(n - 1) + fibonacci(n - 2)\n",
        "\n",
        "print(fibonacci(0))\n",
        "print(fibonacci(2))\n",
        "print(fibonacci(9))"
      ],
      "metadata": {
        "id": "xIMhp05AIpV_",
        "colab": {
          "base_uri": "https://localhost:8080/"
        },
        "outputId": "24442293-31ca-4814-929a-290e3e878539"
      },
      "execution_count": 21,
      "outputs": [
        {
          "output_type": "stream",
          "name": "stdout",
          "text": [
            "1\n",
            "2\n",
            "55\n"
          ]
        }
      ]
    }
  ]
}