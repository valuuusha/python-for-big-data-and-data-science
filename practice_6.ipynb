{
  "cells": [
    {
      "cell_type": "markdown",
      "metadata": {
        "id": "5qvkYXU42nND"
      },
      "source": [
        "# I. Docstrings."
      ]
    },
    {
      "cell_type": "markdown",
      "metadata": {
        "id": "7VUggLjZ4NNb"
      },
      "source": [
        "1. (2б) Що таке docstrings? Навіщо вони потрібні?"
      ]
    },
    {
      "cell_type": "markdown",
      "metadata": {
        "id": "_oqTO_30GlHj"
      },
      "source": [
        "Це рядки документації, які пишуться для пояснень функції, класів або методів. Вони пояснюють, що робить функція або клас, які параметри повертаються і тд.Вони потрібні, щоб код був зрозумілим іншим програмістам, щоб можна було швидко зрозуміти роботу конкртеного фрагменту коду без необхідності його розбирати."
      ]
    },
    {
      "cell_type": "markdown",
      "metadata": {
        "id": "bRumAhtgG3jV"
      },
      "source": [
        "2. (2б) Створіть docstrings для функції, що розраховує різницю двох цілих чисел та повертає її."
      ]
    },
    {
      "cell_type": "code",
      "execution_count": 4,
      "metadata": {
        "colab": {
          "base_uri": "https://localhost:8080/",
          "height": 53
        },
        "id": "G_xCtwQGGkew",
        "outputId": "d91d3a6d-f9df-4def-f91b-859505c8644b"
      },
      "outputs": [
        {
          "data": {
            "application/vnd.google.colaboratory.intrinsic+json": {
              "type": "string"
            },
            "text/plain": [
              "'\\n    Calculates the difference between two integers.\\n\\n    Parameters:\\n    a (int): The first integer.\\n    b (int): The second integer.\\n\\n    Returns:\\n    int: The difference between the two integers (a - b).\\n    '"
            ]
          },
          "execution_count": 4,
          "metadata": {},
          "output_type": "execute_result"
        }
      ],
      "source": [
        "\"\"\"\n",
        "Calculates the difference between two integers.\n",
        "\n",
        "Parameters:\n",
        "a (int): The first integer.\n",
        "b (int): The second integer.\n",
        "\n",
        "Returns:\n",
        "int: The difference between the two integers (a - b).\n",
        "\"\"\""
      ]
    },
    {
      "cell_type": "markdown",
      "metadata": {
        "id": "gibK8CjDHBfc"
      },
      "source": [
        "3. (3б) Визначте функцію, що розраховує розраховує різницю двох цілих чисел та повертає її, використовуючи документацію з завдання 2."
      ]
    },
    {
      "cell_type": "code",
      "execution_count": null,
      "metadata": {
        "id": "wh5tMJgh0zer"
      },
      "outputs": [],
      "source": [
        "def calculate_difference(a: int, b: int) -> int:\n",
        "    \"\"\"\n",
        "    Calculates the difference between two integers.\n",
        "\n",
        "    Parameters:\n",
        "    a (int): The first integer.\n",
        "    b (int): The second integer.\n",
        "\n",
        "    Returns:\n",
        "    int: The difference between the two integers (a - b).\n",
        "    \"\"\"\n",
        "    return a - b"
      ]
    },
    {
      "cell_type": "markdown",
      "metadata": {
        "id": "PI-mNDQNIDUm"
      },
      "source": [
        "4. (5б) Створіть docstring для функції, що перевіряє, чи є число простим. Увага: під час виклику функції ми очікуємо, що користувач(ка) може подати на вхід будь-який тип обʼєкту. У випадку, якщо на вході не підходящий тип даних, маємо кинути помилку."
      ]
    },
    {
      "cell_type": "code",
      "execution_count": 3,
      "metadata": {
        "id": "3nTbEkJ0I4Gn"
      },
      "outputs": [],
      "source": [
        "\"\"\"\n",
        "Checks whether the number is a prime number.\n",
        "\n",
        "Prime number is a number (greater than 1) that has no positive divisors other than 1 and itself.\n",
        "\n",
        "Parameters:\n",
        "n (int): The number that has to be checked.\n",
        "\n",
        "Returns:\n",
        "bool: True if the number is prime, False otherwise.\n",
        "\n",
        "Raises:\n",
        "TypeError: If the input is not an integer.\n",
        "ValueError: If the input is less than or equal to 1.\n",
        "\"\"\""
      ]
    },
    {
      "cell_type": "markdown",
      "metadata": {
        "id": "OMRx9emvI4NM"
      },
      "source": [
        "5. (7б) Визначте функцію, яка перевіряє, чи є число простим, використовуючи документацію з завдання 4."
      ]
    },
    {
      "cell_type": "code",
      "execution_count": null,
      "metadata": {
        "id": "wONHC4OEJARD"
      },
      "outputs": [],
      "source": [
        "def is_prime(n) -> bool:\n",
        "    \"\"\"\n",
        "    Checks whether the number is a prime number.\n",
        "\n",
        "    Prime number is a number (greater than 1) that has no positive divisors other than 1 and itself.\n",
        "\n",
        "    Parameters:\n",
        "    n (int): The number that has to be checked.\n",
        "\n",
        "    Returns:\n",
        "    bool: True if the number is prime, False otherwise.\n",
        "\n",
        "    Raises:\n",
        "    TypeError: If the input is not an integer.\n",
        "    ValueError: If the input is less than or equal to 1.\n",
        "    \"\"\"\n",
        "    if not isinstance(n, int):\n",
        "        raise TypeError(\"Input must be an integer.\")\n",
        "    if n <= 1:\n",
        "        raise ValueError(\"Input must be a positive integer greater than 1.\")\n",
        "\n",
        "    for i in range(2, int(n ** 0.5) + 1):\n",
        "        if n % i == 0:\n",
        "            return False\n",
        "    return True"
      ]
    },
    {
      "cell_type": "markdown",
      "metadata": {
        "id": "1r9WQ5Y9JULV"
      },
      "source": [
        "6. (6б) Створіть docstring для функції, що повертає найдовший спільний префікс двох рядків не залежно від регістру. Обовʼязково включіть два приклади згідно формату."
      ]
    },
    {
      "cell_type": "code",
      "execution_count": 5,
      "metadata": {
        "colab": {
          "base_uri": "https://localhost:8080/",
          "height": 70
        },
        "id": "mqTHuBGsKY2V",
        "outputId": "dffe3c6a-9279-4091-8631-a150521efa74"
      },
      "outputs": [
        {
          "data": {
            "application/vnd.google.colaboratory.intrinsic+json": {
              "type": "string"
            },
            "text/plain": [
              "'\\nReturns the longest common prefix of two strings, ignoring case.\\n\\nThe function compares two input string char by char,and returns the longest sequence \\nof characters that these strings share.\\n\\nParameters:\\nstr1 (str): The first string to be compared.\\nstr2 (str): The second string to be compared.\\n\\nReturns:\\nstr: The longest common prefix of the two strings, ignoring case.\\n\\nRaises:\\nTypeError: If either of the inputs is not a string.\\n'"
            ]
          },
          "execution_count": 5,
          "metadata": {},
          "output_type": "execute_result"
        }
      ],
      "source": [
        "\"\"\"\n",
        "Returns the longest common prefix of two strings, ignoring case.\n",
        "\n",
        "The function compares two input string char by char,and returns the longest sequence\n",
        "of characters that these strings share.\n",
        "\n",
        "Parameters:\n",
        "str1 (str): The first string to be compared.\n",
        "str2 (str): The second string to be compared.\n",
        "\n",
        "Returns:\n",
        "str: The longest common prefix of the two strings, ignoring case.\n",
        "\n",
        "Raises:\n",
        "TypeError: If either of the inputs is not a string.\n",
        "\"\"\"\n"
      ]
    },
    {
      "cell_type": "markdown",
      "metadata": {
        "id": "ZVkQ4jo2KZrx"
      },
      "source": [
        "7. (9б) Реалізуйте функцію згідно документації із завдання 6, використовуючи її."
      ]
    },
    {
      "cell_type": "code",
      "execution_count": 9,
      "metadata": {
        "id": "e1odBJATKd7L"
      },
      "outputs": [],
      "source": [
        "def longest_common_prefix(str1: str, str2: str) -> str:\n",
        "      \"\"\"\n",
        "      Returns the longest common prefix of two strings, ignoring case.\n",
        "\n",
        "      The function compares two input string char by char,and returns the longest sequence\n",
        "      of characters that these strings share.\n",
        "\n",
        "      Parameters:\n",
        "      str1 (str): The first string to be compared.\n",
        "      str2 (str): The second string to be compared.\n",
        "\n",
        "      Returns:\n",
        "      str: The longest common prefix of the two strings, ignoring case.\n",
        "\n",
        "      Raises:\n",
        "      TypeError: If either of the inputs is not a string.\n",
        "      \"\"\"\n",
        "      if not isinstance(str1, str) or not isinstance(str2, str):\n",
        "          raise TypeError(\"Both inputs must be strings.\")\n",
        "\n",
        "      str1, str2 = str1.lower(), str2.lower()\n",
        "\n",
        "      prefix = ''\n",
        "      for i in range(min(len(str1), len(str2))):\n",
        "          if str1[i] == str2[i]:\n",
        "              prefix += str1[i]\n",
        "          else:\n",
        "              break\n",
        "\n",
        "      return prefix\n"
      ]
    },
    {
      "cell_type": "markdown",
      "metadata": {
        "id": "OXbxPfuZKlQb"
      },
      "source": [
        "8. (6б) Створіть docstring для функції, що розраховує суму щомісячного платежу по єОселі."
      ]
    },
    {
      "cell_type": "code",
      "execution_count": 13,
      "metadata": {
        "colab": {
          "base_uri": "https://localhost:8080/",
          "height": 106
        },
        "id": "iFGckfs3KqHq",
        "outputId": "8397d12d-b0bf-4953-ac6f-8986c3400996"
      },
      "outputs": [
        {
          "data": {
            "application/vnd.google.colaboratory.intrinsic+json": {
              "type": "string"
            },
            "text/plain": [
              "'\\nCalculates the monthly payment for a housing loan (єОселя) based on the loan details.\\n\\nThe function calculates the monthly payment by determining the total cost of the property (based on its area \\nand price per m^2), then factoring in the down payment and applying the interest rate for the loan term.\\n\\nParameters:\\narea (float): The area of the property in square meters (m^2).\\nprice_per_m2 (float): The price per square meter of the property.\\ndown_payment_percentage (float): The percentage of the total property value paid upfront as a down payment.\\ninterest_rate (float): The annual interest rate for the loan (as a percentage).\\nloan_term_years (int): The term of the loan in years.\\n\\nReturns:\\nfloat: The estimated monthly payment for the loan.\\n\\nRaises:\\nValueError: If any of the parameters are non-positive.\\n'"
            ]
          },
          "execution_count": 13,
          "metadata": {},
          "output_type": "execute_result"
        }
      ],
      "source": [
        "\"\"\"\n",
        "Calculates the monthly payment for a housing loan (єОселя) based on the loan details.\n",
        "\n",
        "The function calculates the monthly payment by determining the total cost of the property (based on its area\n",
        "and price per m^2), then factoring in the down payment and applying the interest rate for the loan term.\n",
        "\n",
        "Parameters:\n",
        "area (float): The area of the property in square meters (m^2).\n",
        "price_per_m2 (float): The price per square meter of the property.\n",
        "down_payment_percentage (float): The percentage of the total property value paid upfront as a down payment.\n",
        "interest_rate (float): The annual interest rate for the loan (as a percentage).\n",
        "loan_term_years (int): The term of the loan in years.\n",
        "\n",
        "Returns:\n",
        "float: The estimated monthly payment for the loan.\n",
        "\n",
        "Raises:\n",
        "ValueError: If any of the parameters are non-positive.\n",
        "\"\"\""
      ]
    },
    {
      "cell_type": "markdown",
      "metadata": {
        "id": "xQjsUPhAOUq1"
      },
      "source": [
        "9. (12б) Використовуючи документацію із завдання 8, реалізуйте відповідну функцію."
      ]
    },
    {
      "cell_type": "code",
      "execution_count": 12,
      "metadata": {
        "id": "H3_FpZW7OUAA"
      },
      "outputs": [],
      "source": [
        "def calculate_monthly_payment(area, price_per_m2, down_payment_percentage, interest_rate, loan_term_years):\n",
        "    \"\"\"\n",
        "    Calculates the monthly payment for a housing loan (єОселя) based on the loan details.\n",
        "\n",
        "    The function calculates the monthly payment by determining the total cost of the property (based on its area\n",
        "    and price per m^2), then factoring in the down payment and applying the interest rate for the loan term.\n",
        "\n",
        "    Parameters:\n",
        "    area (float): The area of the property in square meters (m^2).\n",
        "    price_per_m2 (float): The price per square meter of the property.\n",
        "    down_payment_percentage (float): The percentage of the total property value paid upfront as a down payment.\n",
        "    interest_rate (float): The annual interest rate for the loan (as a percentage).\n",
        "    loan_term_years (int): The term of the loan in years.\n",
        "\n",
        "    Returns:\n",
        "    float: The estimated monthly payment for the loan.\n",
        "\n",
        "    Raises:\n",
        "    ValueError: If any of the parameters are non-positive.\n",
        "    \"\"\"\n",
        "    if area <= 0 or price_per_m2 <= 0 or down_payment_percentage <= 0 or interest_rate <= 0 or loan_term_years <= 0:\n",
        "        raise ValueError(\"All input parameters must be positive values.\")\n",
        "\n",
        "    total_property_cost = area * price_per_m2\n",
        "    down_payment = (down_payment_percentage / 100) * total_property_cost\n",
        "    loan_amount = total_property_cost - down_payment\n",
        "    monthly_rate = interest_rate / 100 / 12\n",
        "    num_payments = loan_term_years * 12\n",
        "    monthly_payment = (loan_amount * monthly_rate) / (1 - (1 + monthly_rate) ** -num_payments)\n",
        "\n",
        "    return monthly_payment"
      ]
    },
    {
      "cell_type": "markdown",
      "metadata": {
        "id": "uPyZWU1r2q-s"
      },
      "source": [
        "# II. Errors and exceptions handling."
      ]
    },
    {
      "cell_type": "markdown",
      "metadata": {
        "id": "GJAVQ9SJbARP"
      },
      "source": [
        "10. (3б) Реалізуйте функцію, яка отримує значення зі словника за ключем та повертає його, а за умови відсутності ключа відловлює KeyError."
      ]
    },
    {
      "cell_type": "code",
      "execution_count": 16,
      "metadata": {
        "id": "01YDTgxI4IK7"
      },
      "outputs": [],
      "source": [
        "def get_value_from_dict(dictionary: dict, key):\n",
        "    try:\n",
        "      return dictionary[key]\n",
        "    except KeyError:\n",
        "        return (f\"Key '{key}' not found in the dictionary.\")\n"
      ]
    },
    {
      "cell_type": "markdown",
      "metadata": {
        "id": "IwpB9_4Jbttd"
      },
      "source": [
        "11. (3б) Реалізуйте функцію із завдання 10 без відловлювання помилки, однак за допомогою конструкції if-else."
      ]
    },
    {
      "cell_type": "code",
      "execution_count": 17,
      "metadata": {
        "id": "qSEr1bCQbtC1"
      },
      "outputs": [],
      "source": [
        "def get_value_from_dict1(dictionary: dict, key):\n",
        "    if key in dictionary:\n",
        "        return dictionary[key]\n",
        "    else:\n",
        "        return None"
      ]
    },
    {
      "cell_type": "markdown",
      "metadata": {
        "id": "H4iygP7xb7xB"
      },
      "source": [
        "12. (3б) Реалізуйте функцію з завдання 10, використовуючи метод словника, який дозволяє зробити операцію навіть без if-else."
      ]
    },
    {
      "cell_type": "code",
      "execution_count": null,
      "metadata": {
        "id": "IjFPCfCXcFMF"
      },
      "outputs": [],
      "source": [
        "def get_value_from_dict2(dictionary: dict, key):\n",
        "    return dictionary.get(key)"
      ]
    },
    {
      "cell_type": "markdown",
      "metadata": {
        "id": "V7UB77SvcFiH"
      },
      "source": [
        "13. (5б) Визначте функцію, яка обробляє значення, введене користувачем з терміналу, приводячи його до цілого числа. Використайте відловлення відповідної помилки. Наприклад, людина має ввести свій вік."
      ]
    },
    {
      "cell_type": "code",
      "execution_count": null,
      "metadata": {
        "id": "OEkZInsUce-g"
      },
      "outputs": [],
      "source": [
        "def get_age_from_user() -> int:\n",
        "    try:\n",
        "        age = int(input(\"Please enter your age: \"))\n",
        "        return age\n",
        "    except ValueError:\n",
        "        print(\"Invalid input! Please enter a valid integer for your age.\")\n",
        "        return None"
      ]
    },
    {
      "cell_type": "markdown",
      "metadata": {
        "id": "nvQo1fzjcfYI"
      },
      "source": [
        "14. (5б) Визначте функцію з завдання 13, де використайте конструкцію if-else замість відловдення помилки."
      ]
    },
    {
      "cell_type": "code",
      "execution_count": null,
      "metadata": {
        "id": "bQF8LazacpUI"
      },
      "outputs": [],
      "source": [
        "def get_age_from_user1() -> int:\n",
        "    age_input = input(\"Please enter your age: \")\n",
        "\n",
        "    if age_input.isdigit():\n",
        "        age = int(age_input)\n",
        "        return age\n",
        "    else:\n",
        "        print(\"Invalid input! Please enter a valid integer for your age.\")\n",
        "        return None"
      ]
    },
    {
      "cell_type": "markdown",
      "metadata": {
        "id": "l4RoecD_dIj5"
      },
      "source": [
        "15. (5б) Визначте функцію з завдання 13, враховуючи додаткове обмеження, що число має бути у діапазоні від 18 до 120 (повнолітня людина). Відловіть відповідні типи помилок."
      ]
    },
    {
      "cell_type": "code",
      "execution_count": null,
      "metadata": {
        "id": "SeHKtFGTdiyD"
      },
      "outputs": [],
      "source": [
        "def get_age_from_user() -> int:\n",
        "    try:\n",
        "        age_input = input(\"Please enter your age: \")\n",
        "        age = int(age_input)\n",
        "\n",
        "        if age < 18 or age > 120:\n",
        "            raise ValueError(\"Age must be between 18 and 120.\")\n",
        "\n",
        "        return age\n",
        "\n",
        "    except ValueError as e:\n",
        "        print"
      ]
    },
    {
      "cell_type": "markdown",
      "metadata": {
        "id": "MAn64KyreVC4"
      },
      "source": [
        "16. (12б) Напишіть код, який би генерував максимальну кількість помилок різного типу."
      ]
    },
    {
      "cell_type": "code",
      "execution_count": null,
      "metadata": {
        "colab": {
          "base_uri": "https://localhost:8080/",
          "height": 108
        },
        "id": "DzuV3uQpeb-U",
        "outputId": "a4094a23-6454-4ce0-c942-4f5352523f21"
      },
      "outputs": [
        {
          "ename": "SyntaxError",
          "evalue": "unterminated string literal (detected at line 2) (<ipython-input-2-cc3602b2daeb>, line 2)",
          "output_type": "error",
          "traceback": [
            "\u001b[0;36m  File \u001b[0;32m\"<ipython-input-2-cc3602b2daeb>\"\u001b[0;36m, line \u001b[0;32m2\u001b[0m\n\u001b[0;31m    print(\"Hello world')\u001b[0m\n\u001b[0m          ^\u001b[0m\n\u001b[0;31mSyntaxError\u001b[0m\u001b[0;31m:\u001b[0m unterminated string literal (detected at line 2)\n"
          ]
        }
      ],
      "source": [
        "# NameError\n",
        "print(undefined_var)\n",
        "\n",
        "# TypeError\n",
        "len(5)\n",
        "\n",
        "# IndexError\n",
        "my_list = [1, 2, 3]\n",
        "print(my_list[5])\n",
        "\n",
        "# KeyError\n",
        "my_dict = {'a': 1}\n",
        "print(my_dict['b'])\n",
        "\n",
        "# ValueError\n",
        "int(\"text\")\n",
        "\n",
        "# AttributeError\n",
        "x = 10\n",
        "x.append(5)\n",
        "\n",
        "# ZeroDivisionError\n",
        "y = 5 / 0\n",
        "\n",
        "# FileNotFoundError\n",
        "open(\"non_exist_file.txt\")\n",
        "\n",
        "# ImportError\n",
        "import non_exist_module\n",
        "\n",
        "# RuntimeError\n",
        "def infinite_rec():\n",
        "    infinite_rec)\n",
        "infinite_rec()\n",
        "\n",
        "# UnboundLocalError\n",
        "def func():\n",
        "    x += 1\n",
        "    print(x)\n",
        "x = 10\n",
        "func()\n",
        "\n",
        "# IndentationError\n",
        "def bad_indent():\n",
        "print(\"wrong indentation\")\n",
        "\n",
        "# AssertionError\n",
        "assert 11 == 2\n",
        "\n",
        "# NotImplementedError\n",
        "class AbstractClass:\n",
        "    def method(self):\n",
        "        raise NotImplementedError\n",
        "obj = AbstractClass()\n",
        "obj.method()\n"
      ]
    },
    {
      "cell_type": "markdown",
      "metadata": {
        "id": "5VFbEKQkecMz"
      },
      "source": [
        "17. (12б) Наскільки це можливо, виправте код із завдання 16."
      ]
    },
    {
      "cell_type": "code",
      "execution_count": 1,
      "metadata": {
        "colab": {
          "base_uri": "https://localhost:8080/",
          "height": 108
        },
        "id": "peMOBz9ieiur",
        "outputId": "1eee178a-c008-4d3d-fa19-09edfa285eb6"
      },
      "outputs": [
        {
          "ename": "SyntaxError",
          "evalue": "unterminated string literal (detected at line 2) (<ipython-input-1-77e19c230972>, line 2)",
          "output_type": "error",
          "traceback": [
            "\u001b[0;36m  File \u001b[0;32m\"<ipython-input-1-77e19c230972>\"\u001b[0;36m, line \u001b[0;32m2\u001b[0m\n\u001b[0;31m    print(\"Hello world')\u001b[0m\n\u001b[0m          ^\u001b[0m\n\u001b[0;31mSyntaxError\u001b[0m\u001b[0;31m:\u001b[0m unterminated string literal (detected at line 2)\n"
          ]
        }
      ],
      "source": [
        "try:\n",
        "    print(undefined_var)\n",
        "except NameError:\n",
        "    print(\"Error: Variable is not defined.\")\n",
        "\n",
        "try:\n",
        "    len(5)\n",
        "except TypeError:\n",
        "    print(\"Error: Invalid type for len function.\")\n",
        "\n",
        "my_list = [1, 2, 3]\n",
        "try:\n",
        "    print(my_list[5])\n",
        "except IndexError:\n",
        "    print(\"Error: Index out of range.\")\n",
        "\n",
        "my_dict = {'a': 1}\n",
        "try:\n",
        "    print(my_dict['b'])\n",
        "except KeyError:\n",
        "    print(\"Error: Key not found in dictionary.\")\n",
        "\n",
        "try:\n",
        "    int(\"text\")\n",
        "except ValueError:\n",
        "    print(\"Error: Invalid type conversion.\")\n",
        "\n",
        "x = 10\n",
        "try:\n",
        "    x.append(5)\n",
        "except AttributeError:\n",
        "    print(\"Error: Append method is not supported for this type.\")\n",
        "\n",
        "try:\n",
        "    y = 5 / 0\n",
        "except ZeroDivisionError:\n",
        "    print(\"Error: Division by zero.\")\n",
        "\n",
        "try:\n",
        "    open(\"non_exist_file.txt\")\n",
        "except FileNotFoundError:\n",
        "    print(\"Error: File not found.\")\n",
        "\n",
        "try:\n",
        "    import non_exist_module\n",
        "except ImportError:\n",
        "    print(\"Error: Module not found.\")\n",
        "\n",
        "def infinite_rec():\n",
        "    try:\n",
        "        infinite_rec()\n",
        "    except RecursionError:\n",
        "        print(\"Error: Recursion depth exceeded.\")\n",
        "infinite_rec()\n",
        "\n",
        "def func():\n",
        "    global x\n",
        "    x += 1\n",
        "    print(x)\n",
        "\n",
        "x = 10\n",
        "func()\n",
        "\n",
        "try:\n",
        "    def bad_indent():\n",
        "        print(\"wrong indentation\")\n",
        "    bad_indent()\n",
        "except IndentationError:\n",
        "    print(\"Error: Incorrect indentation.\")\n",
        "\n",
        "try:\n",
        "    assert 11 == 2\n",
        "except AssertionError:\n",
        "    print(\"Error: Assertion failed.\")\n",
        "\n",
        "class AbstractClass:\n",
        "    def method(self):\n",
        "        raise NotImplementedError(\"This method should be implemented.\")\n",
        "\n",
        "obj = AbstractClass()\n",
        "try:\n",
        "    obj.method()\n",
        "except NotImplementedError as e:\n",
        "    print(f\"Error: {e}\")"
      ]
    }
  ],
  "metadata": {
    "colab": {
      "provenance": []
    },
    "kernelspec": {
      "display_name": "Python 3",
      "name": "python3"
    },
    "language_info": {
      "name": "python"
    }
  },
  "nbformat": 4,
  "nbformat_minor": 0
}
