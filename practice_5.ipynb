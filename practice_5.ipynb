{
  "cells": [
    {
      "cell_type": "markdown",
      "metadata": {
        "id": "5qV_sehzFCTp"
      },
      "source": [
        "# I. OOP"
      ]
    },
    {
      "cell_type": "markdown",
      "metadata": {
        "id": "tx_U_hOALyfg"
      },
      "source": [
        "1. (6б). Створіть клас Building, додайте три атрибути, один з яких має значення за замовчуванням та два методи на свій розсуд."
      ]
    },
    {
      "cell_type": "code",
      "execution_count": 17,
      "metadata": {
        "id": "-Vf895KaL88N"
      },
      "outputs": [],
      "source": [
        "class Building:\n",
        "    def __init__(self, squere, colors, floors=1):\n",
        "      self.squere = squere\n",
        "      self.colors = colors if isinstance(colors, list) else [colors]\n",
        "      self.floors = floors\n",
        "\n",
        "    def extendBulding(self, floors=1):\n",
        "        if floors > 3:\n",
        "            raise ValueError(\"The building can't be extended with more than 3 floors\")\n",
        "        self.square = (self.square / self.floors) * (self.floors + floors)\n",
        "        self.floors += floors\n",
        "\n",
        "    def repaint(self, color):\n",
        "        if color not in self.colors:\n",
        "            self.colors.append(color)"
      ]
    },
    {
      "cell_type": "markdown",
      "metadata": {
        "id": "X_UlOMB0L93w"
      },
      "source": [
        "2. (2б). Створіть два обʼєкти цього класу, де один з обʼєктів створюється із дефолтним значенням атрибуту. На одному обʼєкті отримайте значення його атрибуту, а на іншому викличте один з його методів."
      ]
    },
    {
      "cell_type": "code",
      "execution_count": 25,
      "metadata": {
        "colab": {
          "base_uri": "https://localhost:8080/"
        },
        "id": "7gBu0ESOMCpG",
        "outputId": "b65d84a4-289a-4715-bc06-a45be9f482ba"
      },
      "outputs": [
        {
          "name": "stdout",
          "output_type": "stream",
          "text": [
            "white\n",
            "4\n"
          ]
        }
      ],
      "source": [
        "office = Building(300, \"white\", 4)\n",
        "house = Building(100, [\"brown\", \"yellow\"])\n",
        "\n",
        "print(office.colors)\n",
        "\n",
        "house.extendBulding(3)\n",
        "print(house.floors)"
      ]
    },
    {
      "cell_type": "markdown",
      "metadata": {
        "id": "HoqSCZt1MHn5"
      },
      "source": [
        "3. (5б). Створіть клас, де атрибути мають різні рівні доступу. Спробуйте отримати їхні значення та опишіть результати."
      ]
    },
    {
      "cell_type": "code",
      "execution_count": 35,
      "metadata": {
        "colab": {
          "base_uri": "https://localhost:8080/"
        },
        "id": "r9b3vJxBMSPV",
        "outputId": "a9e305a6-feac-49cd-f8d5-339fd7fbd021"
      },
      "outputs": [
        {
          "name": "stdout",
          "output_type": "stream",
          "text": [
            "Harry Jonson\n",
            "15000\n",
            "1000\n"
          ]
        }
      ],
      "source": [
        "class Employee:\n",
        "    def __init__(self, name, salary, bonus=0):\n",
        "        self.name = name\n",
        "        self._salary = salary\n",
        "        self.__bonus = bonus\n",
        "\n",
        "    def get_bonus(self):\n",
        "      return self.__bonus\n",
        "\n",
        "    def set_bonus(self, bonus):\n",
        "      self.__bonus = bonus\n",
        "\n",
        "employee = Employee(\"Harry Jonson\", 15000, 1000)\n",
        "\n",
        "print(employee.name)\n",
        "print(employee._salary)\n",
        "# print(employee.__bonus)\n",
        "print(employee.get_bonus())\n"
      ]
    },
    {
      "cell_type": "markdown",
      "metadata": {
        "id": "4b8tbI80pTbG"
      },
      "source": [
        "![зображення.png](data:image/png;base64,iVBORw0KGgoAAAANSUhEUgAAAuEAAADmCAYAAAB72lsDAAAgAElEQVR4Xu2df4xe2Vnfn2mUQJrVhjRVu1HbiWNP12uisJbKH6DSqeQQlRnbShdWNC1rRYwg66gSYqr4RwUIRRDhH5EGIVWxA7K0GlOWaMGN1vZQBdx2RFskqDTuKkycjh1noCIF0pAoKW3QZnp/33PPj3vOve9973vf9/3MX/b7nnvOcz7n3Pt+z3Of85yFg+hP+IMABCAAAQhAAAIQgAAEeiOwgAjvjTUNQQACEIAABCAAAQhAICGACGciQAACEIAABCAAAQhAoGcCiPCegdMcBCAAAQhAAAIQgAAEEOHMAQhAAAIQgAAEIAABCPRMABHeM3CagwAEIAABCEAAAhCAACKcOQABCEAAAhCAAAQgAIGeCSDCewZOcxCAAAQgAAEIQAACEFj4zR9958H63lnZ2r4ox1Qet9bk0Po9ObHxWG48NwOgdi/J8so12de7cmJDHs9EB2dgjOgCBCAAAQhAAAIQmBMC8yPCjQHdlUvLK3JtCRE+J3OdbkIAAhCAAAQgAIHBEGgmwg1v8qKc3dqWi4ULXRG25x5UPM+LZ7dkuyh4S9YOrcte/NnRq4nHPf/LPe+7l5Zl5dq+xROftSEW730jrDUi3OjnCdl4fEOKFwLJ93dlNer70auHpDB/0WZT2teyhzqz1Oi8vwqIqoe+UZuNQFAYAhCAAAQgAAEIQKBnAg1EeCQmlx/IOSVs5dZaLEBVUZkJ2yTmQ/ncCG1RhWkpcFMhKpmwz8ro4SKZQI4KKaK+DTW7CLeJf6OfikgvFxc2ex2fVTjmzFShn12nivrgNtuw4BoIQAACEIAABCAAgT4JNBDhFrMMQWwTlPF1iuc78YZbRGbqDk6850tZHHoqfqte6FQkL1U9062I2US4bmdesSamc0GsLRASe9X4eq0/VjOTBcqe9kYhRqTF5Ie22YoFF0EAAhCAAAQgAAEI9EkgFeFlrITRdv3GTF20hoaKOLzceuuGB73LOG5LXTWbUSsC2yGuDRGeLzaifrk42hYaKQaNbXCbfU4f2oIABCAAAQhAAAIQaEOgkSfciFvOWixDMjoW4aIJZSUuuoxDb9Pt+BqXCLd4pWNJrHrlGwliNUQnbrcaE24K97w/du97/pagKKV739vi4DoIQAACEIAABCAAgd4IBItw+0bJMXvCY6mshJ88E//77qqZTrEVrhYiPA81aSTCFeOKuO5SiPtEeLJ5NV5xtG2zFRsuggAEIAABCEAAAhAYJ4FAEe7ycI9fhOdhGbKxJU9vrMjd1VE3ZFY9zYXITT6ujwnvRBDrYro2JlzxyiPCx3kfUDcEIAABCEAAAhDolUCgCM/DMZRQCmu2jq7DUVIWaShI/C8tVWATVJHYXZMbxcFD1UwsZUW2z4247VBBHLW5/OBcJYuLWb+NmSVmPrTNJkwoCwEIQAACEIAABCAwEQLBIryIoS6OnIwF8Wl5Nc/3nQRpj0eE55lCot2NI51uWYr5mLU9X3f8jRH7ruf/biCIzTh620JCjxuPrNNTMDZocyIziUYhAAEIQAACEIAABIIJLBxEf8GlJ1WwJmvJpEyiXQhAAAIQgAAEIAABCLQlMBUi3L15sW23uQ4CEIAABCAAAQhAAAKTIzB4Ee6K3Z4cMlqGAAQgAAEIQAACEIDAaAQGK8LL+G137PZoXedqCEAAAhCAAAQgAAEITIbAYEX4ZHDQKgQgAAEIQAACEIAABMZPABE+fsa0AAEIQAACEIAABCAAgQoBRDgTAgIQgAAEIAABCEAAAj0TQIT3DJzmIAABCEAAAhCAAAQggAhnDkAAAhCAAAQgAAEIQKBnAojwnoHTHAQgAAEIQAACEIAABBDhzAEIQAACEIAABCAAAQj0TEAR4btyaXlFru2LLJ7dku2Lx6qmZEfHm/adkI3HN+Q55Yv0gJ2oovzvxIY8vqGWSL8oc4Gn/7e2u3tJlleuSVmb2V7PzGgOAhCAAAQgAAEIQAACIxFIRHhxKuXGqtxdvybiFOF70Vfboutz1YJUWCsH7OQiuiLEc8GvCOpM5FeEuPGZ5bqRus/FEIAABCAAAQhAAAIQ6J/AwsFv/ujBoY2nZWv7ohzLBHNrEZ5dv7TxWCqO70RMKwJe/3/W73QxsJR51jPBvaR70W/J2qF12bMtFPrnR4sQgAAEIAABCEAAAhBoTKAaEz6iCK+K6NwWM8wl8ZbvnU2Ff2FyKq7vRf8/EYv4Z9IwFF3QF6Eui/r1jfvOBRCAAAQgAAEIQAACEJgIgYYiPJbI6l81PtsU17nXekNW767LtcSr/Uwae656uAsP+obIeublPnq16j2Pms3r31i9K+uFx3wi3GgUAhCAAAQgAAEIQAACrQmEi3CjidzDXcZ/V0R4JeREDS2pivCq91wJNamI8GoIit3j3poBF0IAAhCAAAQgAAEIQKBXAiOI8MhOLXzF7am2i/ANWdfCUiwiPNssqoalIMJ7nSM0BgEIQAACEIAABCDQMYHRRLhkcdxZ5hN3vHbVk12kJtRTF6obO7OY8H1RMq1knbfHlHdMhuogAAEIQAACEIAABCAwJgKjifAshWCykTJOA052lDENE9VCAAIQgAAEIAABCMwSgfYi3Jr/Oz+AR9mwac24koWniJLhRBf0MWXjM8t1szQa9AUCEIAABCAAAQhAYC4ILBz84S8cVE+kVPtdhoIYp2BGxQoPuIYq6CRMKVMX5pdb69NP6iQ14VxMTDoJAQhAAAIQgAAEZplA1RM+yz2lbxCAAAQgAAEIQAACEBgIAUT4QAYCMyAAAQhAAAIQgAAE5ocAInx+xpqeQgACEIAABCAAAQgMhAAifCADgRkQgAAEIAABCEAAAvNDABE+P2NNTyEAAQhAAAIQgAAEBkIAET6QgcAMCEAAAhCAAAQgAIH5IYAIn5+xpqcQgAAEIAABCEAAAgMhgAgfyEBgBgQgAAEIQAACEIDA/BBAhM/PWNNTCEAAAhCAAAQgAIGBEECED2QgMAMCEIAABCAAAQhAYH4IIMLnZ6zpKQQgAAEIQAACEIDAQAggwgcyEJgBAQhAAAIQgAAEIDA/BBDh8zPW9BQCEIAABCAAAQhAYCAEEOEDGQjMgAAEIAABCEAAAhCYHwKI8PkZa3oKAQhAAAIQgAAEIDAQAojwgQwEZkAAAhCAAAQgAAEIzA8BRPj8jDU9hQAEIAABCEAAAhAYCAFE+EAGAjMgAAEIQAACEIAABOaHQCrCb56Sj5+5U+314fPyIw8vyzuUT++fWpDPaMWePL8jH7r8bFnq/gX55PEr8rVKbSflfQe3RSklYW3el98+clx2HlVNW9w8kB9+QTUsrM0g+yWwTZipAxA2TjCDWULAfB5wb/I8SwgYvzuBz+PA3x3mGfOMeYY+y++CoOdB4LOl7bIBT3hbclwHAQhAAAIQgAAEIACBlgQQ4S3BcRkEIAABCEAAAhCAAATaEkCEtyXHdRCAAAQgAAEIQAACEGhJABHeEhyXQQACEIAABCAAAQhAoC0BRHhbclwHAQhAAAIQgAAEIACBlgQQ4S3BcRkEIAABCEAAAhCAAATaEkCEtyXHdRCAAAQgAAEIQAACEGhJABHeEhyXQQACEIAABCAAAQhAoC0BRHhbclwHAQhAAAIQgAAEIACBlgQQ4S3BcRkEIAABCEAAAhCAAATaEkCEtyXHdRCAAAQgAAEIQAACEGhJABHeEhyXQQACEIAABCAAAQhAoC0BRHhbclwHAQhAAAIQgAAEIACBlgSmQ4TfPCUfP3NH5PB5+ZGHl+Udlc7elE8tnJG/OL8jH7r8bEsMXAYBCEAAAhAQubV2SNb3zsrW9kU51guQXbm0vCLXljbk8Y3nxtDiLVk7tC6y8VjGUv0YLKbKSRLI5uN+bsOinN3alov6zXBrTQ6t3ysNPTHC/N29JMsr16Rsss/7z8M6se2urNoYdDBMDUV4mOD9kwtH5FevHJP3HdyWTmRx3yL8/gX55PEr8h2bB/LDL3RAmSogAAEIQGAqCMyWCM8ElQxH1PTPd8DTLhOfS0NdICVCe88uwgus3S4i+50f6QJ17+yWbBurjHLeJDbdOxGtY29I18tkRYSnAjteiTzp9CpPSITX3kNhNjW6DbsS4fniwdL4IgK/0ZBQGAIQGDoB3YNmsXcUb1lP3e9XBMSd6lbEqJjGKR7aDkf/fNta2sN1iHADcr/zI0yEF/foGBazpQhPBKPI8fO7svPK85awj5hVmODt3BM+5SIcwd3Dw4wmIACBYREI8qINy+TYmn5FwBhF+EAFXv98hzfHCosGOkaFfUH3cLeLyH7nR6gIj9fKachM9Fqg1mvedLYVIvz+qQX5jGzKRz72WhSK8Yoc3nko35/FkqSi+pGz7tRz/lrhSbcXPKmEpyhi/j0/lcZ7Z38Vwap7kk9G9t3W40PKuk7LDyp2qu2J2BcG1UVFwqA0xeiGLqZ1LsYbhMz+ehF+X377yHHZOZazvyJfy1qu1hfILL428+Tn9YhUWUQFAttsOp0oDwEIQCAjUPsDrvz4Hb1aiS09ob+a12NPxfVaOCSW1V+mEAHXRV5U4lQNu3IPdhHIKrLo+oGujZ+1iZiUTxxx66zTM9HqxEzynWzI1tMbsnIt6kD8huLcgyIut9rX0pa0SUeMsB7Xq46T8Z1m/GLTcBmFmWJ3Yp1lDHYvLaf9zHWGY5yCynlioZM67q5GewqOytVsDHW70jcU7gE051rgUyUgTttou+7t1BBFeODzQO+nOi/0cdbpuu65cbxZykR4KvAkCZFIBdqj520bHbvyhJehL6pATEVt5I1XFgApHEU0ukT44cOReM09+Fl5KTdyhojwYiACwlFSwa6I2+waUUN5mojwZI1zuOy7cW0Ys3xhoAr/1Fal7pynt83AG59iEIAABHQCASI81SGlqE5/HGNnU7YRLBZvV4/KdrGjMBfRmhDPRV5FzEVl1z4t77+Rb7DMxKQiOoz2ImtS8booi5Fmyzdj2csty4Nzyoa1TBzoP+C5GKgIq6jsmtzINkrqIjwXvaPEoNZ7+Io+Lq3L9ulXk7jfxcWov9eTlUe5SdTSp1zAVPpj8xIaY5dOkG48nepiSlkUZPaqthnCyerRzOurLjB2L63Jp99/o9iUaM4D15yKBX+9XQmMDj3h/nkWN7csV49ulxt08/vGJcSHJsIDnwc2sXxrTbtf09kYFBNePNos82vUB38qwrNQlHwjZSLadttnIvGHo2SCUs924hS/fhG+r9elidhORbjDTqONRiJc91brC54QZq5FUnZt8SYh4/nI1+ao04vrIQCBuSUQIsJ1D2iIKHEJLU9Gk1RALWmbq0wvdPoDrnt7TbFljqtlE2RIfyox4c+kmVL2RxHgidKt3VBX6ePn0iwX6eJB0vaT2Nf3y6etWVss/QwSa+MQ4TonTVQ5+BtzIch+h2DTrrUuUlxiL2h+BDxBRqin1rsbxGXC4SjG86CJPQ1FeFPRHjB0iQgvQlFyL3MiHnctHumOPeHW8BKb1X4RbqQo1DzTXYpw5yJD5+bcmGnxSitee/u46ULaUqpG9FcXVuabgoC5QhEIQAAC4QRCRHibjZqG4Aj5IXX/MOueWbunNizLiH6tXfjrCHPbzsrZvWujC/DEwWpbcJTtVuysiBiln1k4ji0G1qi/CDdxhKooXe7UE+7ZKOfkoM3NIJtc81mbj/Y2HXN0BPGsziLfeNfdtLXXToMItzAsQlG8z5eQZ0eFdOfpRCMRvnlg5tl2Cb4pEuHaJtIuRXh97HhdSEnNAqMzEW5bPEUBPZXwGUR4uJKgJAQg0IpARyLcFT9bhBwECRk9rlnrkeKRdwky43NXnHNAXdXWtTj1xvHRFp98hyLclj7PFp6Tv9ovQ53t3vwgweudcA0WRc7Y63zBEOY59cUR5/NxEiI8nKnrPnC8eRmgCPc+D7K5ExTf39izHTZXvNNXKbBwsHnyQN0YWb24XbhCcDhKD57wPNd3lyLc37+MYpNwlD5EeBFihAhvcpNQFgIQaEGgAxFuDQ3p2BOu96zWE54fqOOIpR3NE65sjhxRiPs8o0084W4Rrof2VNzd2WZbU9yFC8Za/60SNuM+VMnHIW8hyKYgQep6CzEET3gmwLW5NU2e8LDngeNNUxSmb264HIAnfOekHFjjv60Csi4sROm4M5wlLxMQWlHh2DwcRd/kaRXOWR/NvOgej7+3fxMS4c4Uknp/EOEtJAWXQAACTQiMLMIdcdiGCG/gFQ04CdMqyLTNfHZPsGXTYdBGLs27lmd/8L5KrxmMkJjwnIUrHMUXE+474dNhQ6gwrp9qYWPui43P23CNZ8WGoDcuDUV4Y0+sg0rIPHOUmR4RHvo8sDFyebCberabinb/A3Ph10UO7Ee+24WymWnD0kieIs/p6R6zCA/JVKLEa5si3LVxMe+r7/tJifA8FWM1w4yRySXPjuL1vvsnECUgAAEIWAmMLMItmVBygRo1qGcbSY7QrghXLTuKLxNE1glThLs2IuabGePzvJWQEj1DS7LRUouVrs2Okgu5/dbpCX1ZH4I84dEuzWMW4WYTrEbWjYiIc8NfVmfb1IvpMAWK8GJcfBtd7Rlp9Owo9k271dnfKBwl2D7fM8ae3SVehBRZeCzzvwztmIZwlNDnQTSWyw/kXDx/y1WWM8d3yJgW9EMWO76h0r5fuCqHD8yUgGkpU7wln6Y5ppW04dYTNo1NiWae8H1POEpd7LWZgq/aM1tu7mpe79iej8mfedIxKilgRa/Tap/ap6ATM0O90uELFyOvu545BhHe8DahOAQg0JjAyCI8blGLYY0FbrZh0AiTMGK0bZsE7TGxVkGvdtjildZjTuM6Tr8apzc0c14bcaz6YsGShSR8c5l9ZOpCLIJFeDIEafaU8q8m1lstVhNSY8RXNw6/CRXhqdXWOGJjTLXY/Oi6kJzjSQOK/c1EuGWORx+1zRNeP8/MsYz7d11erGYNqsvpru93cMTbN7W/Lt6+OgaBzwNLH9w2hY17MY8C3qY1eVYqx9Y3uYyyEIAABCAAAQgMloA1H/ZgrcUwCAybQGA4UtNOIMKbEqM8BCAAAQhAYAoINHrVPgX9wUQITIZAszcvTWxEhDehRVkIQAACEIDA1BCwxNFOje0YCoFhEHDub+jAPER4BxCpAgIQgAAEIDBMAmkcbXRUaHlc+TANxSoIDI9AEoZyV1a3tuVisdOzOzMR4d2xpCYIQAACEIAABCAAAQgEEUCEB2GiEAQgAAEIQAACEIAABLojgAjvjiU1QQACEIAABCAAAQhAIIgAIjwIE4UgAAEIQAACEIAABCDQHQFEeHcsqQkCEIAABCAAAQhAAAJBBJqL8Mf78p6LX5EvyFvkV15ekg8ENTPOQv9Lnv/Al+TByXfJa2eeHGdD7eseHLP2XeHKKSGQzbmjH35WXvnHU2Jzp2aWp6A1Pb2tUzPGVdn//O/ywRt/JF/K63/r35N/8xPfJUt6e//t9+Sf3P1y+em7vlP+/QvvamdVaJtZ7Z+5eUc+/gWRp777e+Sllbe3a3PmrvqmXDjyDXnl+bfIw8tvKnt3/+ty5Pjr8vzOW+XyszPXaToEAQg4CAxfhHvFBCK87ex+bfMP5XvvvGkgi6m2veA6KwHvfTPr3GZchCvDl4jd/+0Q4UW5L8snf+n35Df+xggivGGbiHDzHrt56ity5s4bZPPgSXlB+7ruu1m/W+kfBOaVQHMR3jcpr5iYAhHeN7PA9roU4S//wn35sftKw88+JV//13/baole9gcae2u/Jj/zE1+QjT+tVu+upyz/rh7emKRc/6o07m+9Tf7rLy3Ke3Qa/2lPnvjEN8pPa5gFDmlZzHvf1Neoj1F7bun9+VtKc83Hu3Hv5+qCoYrwqR4E3esvb5eP/Mz3yPtG6NT9C1+V41dEzju93amX/Iq8UXYePiE4xEeAzaUQmBICdhGe/IB/Xf7ppe+Unzs04Z54xQQivO0IdSXCE8EmiujOw290Uen6vG0HlOty4asLvPRzkfUPPyH/7hNfERmzCE/a+/0nFNGdiVBNiBd2FfdYtlAQh2Bvysh737gqzBcsSrhZtlhoLsTTvouyyLKP0wzew4mI+3P5h2sn5EN/p+ngNSuPCG/Gy1s6C+Epw2iytwhfrQrxMO55a38ppxb+r+ye18JQdGOSsJRoAe8r5+0EBSAAgWkgYIrw3Dune++KuOasW1bvXvmj+7P7qjdQjR+3i5Kk1qztWEg9/180z6pGsxRb5Q/4v5U/VjyQtph13Sv3RlnXFhqFoPzn/y+LfU8bbuW964xZZICyMHr3rylstHFI7P8TTchVBJnpmayi7SbWP/WkqnVl4u4dbg/5aDeMRcjF8+k33pQK4oyBU4TrXmnXnocW3mtDcLsEsjL/1Thu3bNuF8P2cdXnrfeNRWLDN437wrVgC7NNHdnMTm2BVtQz8tuAMgwlbXVRzlpOOtu9tCwrd1dla/uoXI1OE7yXmbh4dku2Rz0WLY/DdsRp723dk3/5B39ZQLHGTDeI5Q4Tg/2Fo+RhKHkHv3v1pHzsH2h3t7JIedd/SGPHkz8rsy/IT/3cH8ofFFW4vdI5W2ubQQ8YF6fUhj9W49sLb7nfS556wResYSi6WYSlBA0UhSAwEwQqIjz0h9Aq9BIcihAoxKHp4TO9gClLU7jl4vMr4t5gVtOmKvgs3jybV64UKaWAdNnbZAYEMSsEiMUrqgr6opwpaPwivLS6K0+4jYMxlg5x14RhfVmPN7VOhMff/dq3yWtF+IzFGxw1bs4Du6DU7TSuc7Iw+2BwtPWj5jP1vont+Ojid5YbNS1vJuzztLzHSlGfM6ouZF/b3JNP/aOlmjdoNcxcDoC2k+TWmhxa33OL8Gv7Uc2KSE/K35NRNnIWAtu6ATL3qL5ZfkjxkO9t/Z7c+67vKTzmaR2ilMlEqGNT5dBEeDFcmUj9u04Rnm4sLRchln5mdYgiflORbxO+Od+o0rYbUB02F+NqLBLyBUJ1TKtTNgszOfbtcnD7zf7ZfPNrsnDmdTm5+Ta5rQeO+6+mBAQgMEUEChGei88Qj69XUOpecl10WAWRQ0R5X6vXve7PNx26vLCm2E05aB5yrw3+EW/KzBDIjlAOvdwwRLhr4RWNx4dFfkyNg3bFS/uRVkpYF3BqCZ8nXG/P8Eo75mfA4sIlpM2FpSZQHfNulDHXu1m1zXKfFDY8JfIJJQtRQL+tQ+gbhy4zCQWI8KrgviVrkVd8r6U3PPcAO72wiXf7/1QEuMnI4nGNC9VcO9UiXBPLel/sfXMwijCN7Am3cM5t+Mjf/3P5+B/8dUtseCn+rWOfhZgcCxbVgaErDZ+RFIcABIZHIBLhXz1IN7mZoRkuc32C0kgXaIgJi6fX9aPuFcB2cVQRKjU//F0KmrrhbcrMJcIN4aZxG4IIz98wqGETxRuGSrhBTWhSwL1SDa3wzF+f+NPb0+dd2/mZe3cr/bZ72nVGzjcVFVvaLl7TDlfbqIrw6nfVdtzzuW7g7N5z84rc8x7+TLK26hXhS7Lx+IY8V1zcVoTbPdy6TUFi2SW2a7zKQfVKf+EoRb8DPOG6l7zaF5fY7rYvlXGq8K+2nwp8mwhPa3Bmg0k82wc1GzL1mdLQcx7wrKQIBCAwTAILB//xfxykGRrCf/CaCso0nlkLKbGJR3VzX86rQxFuC2nRQwWCRawRQxwZXOPVbcpsKCLciCGOulm3Qc8V0uT0VFvEbdM2k6ni2/TpEeG2NuNq8zdDeuyzfjtb3yDVhleYGV5+4MNVb7PLprTt/H5tIsJd+wHy0KtShP9KFChQ3VugtiNpdppG8f1lf/1v2xQ7R4kR70uEF/HbdSEJYcJRjxfX55nN0zqzItzIUKLRaBtyUvdbnIvw1b8p//nuH4m6SAgV4aJnUkGED1P9YBUEBkDACEcJyYDQVFBaRXgWP556zf/SyKJQsOlFhJe5soNFeMPBa8psKCK8UTdrRGeYV7dRa0bh2hj3GhEeFILUNPyiTViFNtfDYvZDRXhI2Fa+LyNC68hsky9km3rC8wWF9/nShptr2vQlwrP2fXmxg8RyUMhKtcNB9c6UJ3y050Tt1YXwNxdUbs6ecBRE+BgHjKohMN0ExrIxUw9Hqc2sEKdz+6Fvyvd+QhyHxvjSlwWEo4gnJlzx6E2bCNfttdlv24CaTNumwrJurvs21TXMutHmtmonwh0bBfXFn3cxqFjcUkgm9qvpDYPGxz63jT0etZlXlAObAsepyWblYAHum0NNJ0XPIjw2r25jprnh0tKhuhAOR/9nV4SHvT1QsYwcE+5crLhCYwI2ZhIT3vTOpTwE5oZAeIpCBUkjr64vK0UUphJnp3J7yOzxs6U5ISI8F5zfqKQatAmJqRLhFmGl90kNozDCAHwhHKG3QZB4cmd86SR3tyX7TcV85zx058WOr1eZWT3mOqNWAtw1x31zP23cOua/H91Tf/pXZVYhVyaU5IAlSypJNV+5VcDnISPVlJZ6dpRQAe4KYwqdgtZyExDhiR3OFIW5YKtm9tCzo6Qe9brQlmpvZ1eElyytaRyNQe8gO4oyfmXoT1avaKeSBqcobBjjTXaUkW57LobANBEIPqynLia2FNBhuYpLQE03apVX2vKEv3bmyaKA1StqxHGbObG7FOFNmHnfHhTiTp1e9jj+SixxEqf+bfJR7dCUopYAJvUT2n56ZXGNdUOibRyb3Da2eWbJb25llrejstPqi5n9K5F/oe9jKASvchpmXJ2yF6A2jrumXF2YhrVOLVykUib5TswQL22s4zbT3PqKJzzBY4tXf7ZMbVgMlVmu0o9a/uoCx/e2q8Hc2L0kyyvXJE4+aPwtno3ygl+UY9EXSZ7wa11tzLS05TysRxGK2WU2gWmNDVfS49XFjqv16Tm7VUub5tIOa1PP6a22qCw+HB5/64LCGhtuX6SM7gnP7NXztFvyl4ctfhKWZ6UAACAASURBVNL6GucJ3+XUzAZ3PUUhMLUEOj62vumPacenBE7tMAQY3iQcIqA6ikAAAhCAQF8E0rSDd056coU3Dl3py37agQAExkFgsiIcYRk+prAKZ0VJCEAAAgMjkHrDv1VzCE8WthJlPtp5+IQ8OzD7MQcCEOiewMJb/tnOQVfVfv3lp5JX4HloxRMfSAJOi7+vv6w+Vqob4vSyXdk0C/Uk3BQR/lufqHKdhT7SBwjUEag+O2AFgekkkB5J/9esOcM5rn46xxSrITAKgf494Wqc6Cg5gEfp9TReiyd8GkcNmyEAAQgoBFJv9yvPv0UeXn5T+XkShvK6PL/zVrmMC5wZA4G5IdCxCJ8bbnQUAhCAAAQgAAEIQAACrQkgwluj40IIQAACEIAABCAAAQi0I4AIb8eNqyAAAQhAAAIQgAAEINCaACK8NTouhAAEIAABCEAAAhCAQDsCiPB23LgKAhCAAAQgAAEIQAACrQkgwluj6/7CW2uHZP2eyOLZLdm+GJ/r1+NfclSyyObBk/JCj80aTeknHiqnHE7SrLlqeyhzYa6g01kIQAACEJg3AojwAY14ZyI8E7JLG4/lxnMBHcxOaZPzWtqsgEvHWSThsVceNT7OtqhbJcChIcwHCEAAAhCAwLgJzJcI/+IFOfLzV+RRTvXt52Xn0uXZO5mskQgPPE553DPRUj8ifALQiyaHOy8mSYW2IQABCEAAAl0RmB8R/runZOGlO3Lygwdy+/tSfDd/cUHOfPakbP7y7cmGYHQ1mnk9DUR4epTywuTDUBDhXc+C0etLwlJerzlme/QmqAECEIAABCAwrwTmRITflFM/fkZ237sjDz+gHEeWecZF/9w3GxKRe1dWt7bl6NU0jjv50+OXb63JofU9OauXkxOy8fiG5JEieRhK3uwJWxhJQJt6PXo3zHpTb+dubRjKrlxaXpFr+3lti0l/ipD1pI8iG1tPy8bKNdlP+nZOHuTXnNiQx3FMTID9ur0+T/jupWVZKQ0TydtKKrola5Fh92wx5YnN96LiarhOVr4wojpGxcfZtWWxrH++OaN9n/RNomvPPYjmUswt/TPHSOev7RkouK7L51ei/ko6PsW8tM7JfMImDabjY/0jLKXhsFIcAhCAAAQgEExgPkR4JraPKV7wlNB9uXDxuFx5alMOfrLBdkR182AhYjIRp4oaVbAVn2eiSiyxznUebKXNcuOmpc24W6Ge8MTTeSDnnUclm/WnwldKIZ4tNBYXl2R9+7S8GgnfvcVFkdXrcl1ejMoupQuOUGbK1HWL8FyYqkLZFN2GrVnd6WJFuTazLepUsSHWKJNg1fqeC/1aIWu/F8sFU2mHzd5ba8vy4Jy+6Imkdm5rJsIj7R0hvy7y4orcjf6zv7Quj0+/WiwC40VTG/vTNyVSM0eCnzUUhAAEIAABCEBAITAfIlwcnvBchEvD2PBcUGriKxU5meiMIWciXM92YpTLByREhGttWoVqoAi/eeorcmb3jbLz8AlrXLzdzkwAL2Ue1EofP1fxPkcu9FKwS/z2IPL4+piFiHDlDUMliYzu4baI69xDvqcLbmMDaCrqy3L6/wtFXxG6oU+XVIRrbxWCxk1bxFXm4jPZW4tM2Fd4tLQ/27R7bPNtcrvBOjWUA+UgAAEIQAAC80pgTkR4Hv99WM7/9EO5/M50uO+/fESO/060TbPpBk2XWNLFoTXsoWaqBYhwPeNJexGehRoc+3Y5uP1mi1Ga2HaJ40qfq57ziuc1E+FGxhaXoE7WMPbsKDYvdWqeLjQtbx2M9hziVGyLjTS0qCL8g4Szibf9uGlcKu1r/VXnn5ShUc3sDwlZmtfHJ/2GAAQgAAEItCcwNyI8RpRuxCxhHX7vpjy/c6Z1OIpXUE61CNdjpLVJlscaT0qEW1MXukKCSvFcxGLncdB6XnL9Xso890b8uVbOGsdfc18Gi3CXfTn/QBF+7oEWPx9sPyK8/eOVKyEAAQhAAAJuAnMlwk0MrjAVz5SZc094hc4ARbgaalL1jqfhMlGQupI/3eUJ1+ZAjce+zQMmSIQ7wp4q1waK8BsuT7jXeES4FxEFIAABCEAAAi0IzLcIT9IWRqdENk1R6BDhhrCalCfcCMuwzwxfTLgvO0lS64givK4N53e1MeFmyEjixb67Klvrn5cogUglM020XTGNo85j3F03UdOwkyyW+pG8wZr+MUSE124szd8EhIrwZ9KY/OADnHIOxIS3eKxyCQQgAAEIQMBPYG5FeBqaUo0R9+PKStgEmU1wT0yE27KHWHrny47i8MR25gn38PFmR6lkmHFkiomNtWaWUXrh2ECrE7NupnRMmjSryLeSb09aNjWGiHBzY6+SrrBhOEocfdPE/kKDkx0l+LFAQQhAAAIQgEATAnMjwotNmDmddzdMS6hStcbpapku4vJBIrwu9tpMoxe0MTOx1ay3XZ5wu31FXQ094UW68cRGk1ld7HU1y4wnf3blLsjLWsYoLxc4plb7bLnIO/CEp+uHaix3zP30q8qG1VBPeJYKPNj+hItv826TRw1lIQABCEAAAhBQCcyNCO902JuGJnTaeLeV9ZYHeqLManKzd4tztmrzvSmZrd7SGwhAAAIQgECvBBDhbXBPVFC2MbjumnTj3Z3D7nzhnbQ4SWaTbLsTeJOoJJsXJ10pLCdhE21CAAIQgAAEZocAIrzNWM6aqMtDJ8YpuCbGrCZWvM3Yz8U1HFc/F8NMJyEAAQhAYKIEEOFt8E9MULYxNvCaJPQgyhRz8KSM5WDEvpmpMd4tjpUPpDabxcY9F2aTGr2CAAQgAAEINCKACG+Ei8IQgAAEIAABCEAAAhAYnQAifHSG1AABCEAAAhCAAAQgAIFGBBDhjXBRGAIQgAAEIAABCEAAAqMTQISPzpAaIAABCEAAAhCAAAQg0IgAIrwRLgpDAAIQgAAEIAABCEBgdAKI8NEZdlZDeqx4dI7k2S3Zvniss3qDKhpKRgz95ErbaZRBHaKQTiCfX/nn5gmqk2N289RX5IyQk3xyI0DLEIAABCDQNwFEeN/Ea9rrTIQ3TQeY5QmX82+Rh5ffNBgiCY+9s7K1fVF6XpIMhsFYDGk6P8ZihFbpQOdgH12nDQhAAAIQmE8CMyXCb/7igpz5bDSQ796Ug5+0Zbu+Kad+/IzcKcb6sJz/6Ydy+Z0zNviNRNZwT0ZEhI9pXjaaH2OywVZt8jbmdTm5+Ta5PZZk9T32haYgAAEIQAACHgKzIcJ/95QsvHRHTn5wU+SlSGTbRPgXL8iRn78ij5TvUtE+g0K8gci6f+GrcvzKwvgO6RnhFkSEjwCv7tIG82NMFjirTcJS7rxhkPOxbxa0BwEIQAACs01g+kV4Iq4/Kx/95dvRSY+Zp9siwhPB/aXzsnPpsjxbjOl9uXDxuFx5yuU5dwx+ImLuyurWthy9msZxJ396/PKtNTm0vidn9XJyQjYe35DnssuCYnUD2tTr0a03Y4BTL/hubRjKrlxaXpFr+3lti0l/ipD1pI8iG1tPy8bKNdlP+nZOHuTX5KdVBtiv2+sT4buXlmWlNEykcjJmdly9LaY8sfleVPyx3MgHQbLyhRHVMSo+zq4ti23I47KSsTwt9HG17hnQY+lFGyfVMq8I18fc3KeQsl+qjnXlHsjrsHDM2o8mkrn3gbCUscwhKoUABCAAgeERmH4RXmHqEuHp57vv3ZGHHygluGQedJGTspmI+MA/65HomYhThaAq2IrPM3EilljnOnGktFmKMEubcRe8IivrZ/L6/0DO77xVLitYSgpm/an4klKIZwuNxcUlWd8+La9GinxvcVFk9bpclxczoRYtOEKZKUPgFuE2gWeKbsPWyqJHEYcWUZgK36qANOtz8A+cRiHFbHbcWluWB+eUhVC8gFh+IOeU2Pn0OocQ98wPo/5sHqviX10AOeejdbETT09tDlVAfFMuHPmGXJE3ys7DJ5QFcwgtykAAAhCAAASmh8B8iPAsFOXYBw/k9velg3P/5SNy/HeOyeYHRc68tNssNjwXlBXPay4uYu9g5uW2iJdUI+dexNIbnhgVIsK1Nq1CNVCEJ6/+d91ix25nJoCXMg9wpY+fk7VIhN/LvM+RC70U7BK/PYg85T5mISJcecNQSSKjiz6rxzUVznuKF9Yu9vVy5nWJqS5bOnkGaKyb1FnnbQ6cH2Vz5sIxF+H625UqS9sixd+nIYdINRkCykIAAhCAAATqCMyhCNdCUBJveDsRvlQJZ7AIMocn0DkgASJcb7O9CM88jsdcaeHcYqnSZkWEVkVXxeOZiXAvswARbvMOp5fpQtny1sEQzQ5xLbbFRhpaVBH+jQVtswdSEYqiLV78tbj65VnsOSrW51m9N7usxBirEF7eNzT+3lMCAhCAAAQgMHQCcybC042blbAURLgc3H6zZZ7qMdJakTzWelIi3Jq60BUSVIrnRBSKEsdtxFJr/czErxF/bhRT48u7ve31tm0x4S776uLHjQVRbraLiRJfHyrC9bc7yXV3V+vTTiLCu51A1AYBCEAAAoMkMB8iPN+wGQ3BSSUkJR6RIiylRUy416s7o57wykweoAhXQ02q3vE0XCaKFzI2ZFavsa1Jyk22fZ+jVFpTbpi0xWfbNppa+xXwxkUPG2rrCY9irNKNvUn40jPJv++ueg6jQoQP8scCoyAAAQhAoFsCcyLCRbrPjnJNvKEhkxLhRliGfdL4YsJ92UmSWkcU4XVtOL+rjQk3Q0YK7+v652Ul0eBqLL4/RjnpZ0gYhYo5y/LxSLpOt6fb69ro2y4cpXYzq/L2IdgTXsyRPINOmlWobiFDTHi3D3lqgwAEIACBYRKYGxEu2eZMUTKkpHnCG2ZGcQkym+CemAivSQ+nzkOfx9GxAbUzT7iHjzc7SiXDTE2mEmtmGaUXjg20+i1bm3FEK5wKyW8ln7Y/fMbMepIvBtT0foZdvv7WLSgMFkq6wjbhKOlKLd2wG//TG9tOdpRh/lRgFQQgAAEIdE1gBkS4fgpmFVEl/CQ/sKco0kKAKyK8SJ2d1GdJBxckwutir800el7ve9E3s952ecLt9hV1NfSE+5jVxV5X45v9uazLmZCX9efObmWfLRd5V55wS3y2OY46i3jeZOkiiywwgfMsgqaPQdze6VejWPq2nvBYhicpE2MN7omdz7gd49TMrp/11AcBCEAAAgMjMAMifAJEm4YmTMDE0CZTj63U5AoPrclTbqLManKzd9Q9qqkn4M5oU73OFyIFZwhAAAIQgMCsEECEtxnJiQrKNgbXXZOemnnn8JgPR5kks0m23fVwTWV9NfHpan+S8KjXRwjfmUo4GA0BCEAAAnNKABHeZuBnTdTloRMnXTnD20DSrpkYs/GfatkBnRmuIvAtBMfVz/AcoGsQgAAEIGAjgAhvMy8mJijbGBt4TeKFFNk8eFJeCLykUbG+mamx1N7NgI16MlphX17yvPYh2dyqx0oMui1mXqszCUORMS4CW/WBiyAAAQhAAALjI4AIHx9baoYABCAAAQhAAAIQgICVACKciQEBCEAAAhCAAAQgAIGeCSDCewZOcxCAAAQgAAEIQAACEECEMwcgAAEIQAACEIAABCDQMwFEeM/AaQ4CEIAABCAAAQhAAAKIcOYABCAAAQhAAAIQgAAEeiaACO8ZeF1z+dHe1ePZezJw3CkKQ7uhp/ALSG8XWvWslkuPmV+Kjqq/Ic9NaSdJUTilA4fZEIAABCDQmgAivDW67i/sTIQ3zck90INSEh57Z2Vr+6Ic6x73zNQ4CyJcBjoHZ2aS0BEIQAACEBgcgZkS4Td/cUHOfDZi/O5NOfhJx5EzX7wgR37+ijySw3L+px/K5XcObkxGN6iRCM+OrR/naZkte4QIDwM3EyI87irH1ocNOKUgAAEIQGAmCExMhCeC+UvnZefSZXl2VJS/e0oWXrojJz+4KfLSGbljFeH35cLF43JFzsvm8VfkzO8IIjzifv/CV+X4lYXxnZQ5wtgiwsPgzYwIj3V4fHLmnTcMcj6GjQalIAABCEAAAmEEJibCpfBIn5TNX77d/qj0pJ7PykeTOm7KqR+3i/BY9P/sUzvy8APPyv2Xj8jxUUR44mm+K6tb23L0ahQycS+Drccv31qTQ+t7clYvJycq8bt5GEo+ZCc2HssNPbg3oE29Hn0KmPWmXvDd82+Rh5ff5Jgxu3JpeUWu7edfLyb9uZjHhyR9FNnYelo2Vq7JftK3c/IgvyY/fj3Aft0AnwhPxWdhmEjlqPfs2HRbTHli872ouMpZOWY9MaQ6RoVt2bXF/wdwvHwpwk/Lq9FglNNxS7aLgUotrmeWFAia29axcbyB8bapDjxhKWFPbkpBAAIQgMDUE5icCE/QZaK5s9AQtwiv/M53IsJjwRlrtQ15nCjmTMSpokwVbMXnmagVS6xzXRiJsmGx3LhpaTNVWpGQuiZLNjGvgkhe/x/I+Z23ymXr6wiz/lRQSSnEs4XG4uKSrG+nInBvcVFk9bpclxfLDYPqhss6Zop9bhGeLwxUoWyKbsPWrO50saJcm9kWdaoQrUaZQsAqfbeN+QQeCUk/74os7u+XY24sNMKY5XMnntt18yxUhNvGIP7s6tFtc6GZsPumXDjyjeiN1Rtl5+ETo78lm8B40CQEIAABCEAghMCERXhsYhYm8mWJwkkO5Pb3hZjtKtOzCNe8oEZYQCaE9GwnzvCBEBGutRkqhmzEklf/u26xY7czE3NL2eKj0sfPyVrsic28z5ELvRTski4M9n3MQkS48oah4ujVhadFXOeLpT1dcBsbQFNRX5bT/18o+uJth+Z0HmUiN7o29zRXPfvaYq8hM32c9HkWOu98bzNsHR1yiFSjgaEwBCAAAQhAoIbAAER4al2+qfLwe9OQkXZ//Ypww9OsCx1r2ENNzwJEuN5mqBgyW808jse+XQ5uv9lilCa2XeK40ueq57ziBc1EuJdZgAi3eanTy3ShbHnrYIhRh7gW22IjDS2qiO3Qtw7tJnTQVa5FncopWlFUvf9FzVr/Hf1pK8KLUJQmqSa9b2iCsFAIAhCAAAQgMGgCqQjPNjZWLH27uWmyyD6iFDREcxHrrdbmj/su6/aXdRNFhCdsgoShT4TrMdIa9VxUTUqEW1MXukKCSvGciEnJQ4hKVkpkebWjmefeiGvWcFjj+Hu69V0iXP08EeEhzDoW4enaKI3BL/58cfSI8J5mDs1AAAIQgMAkCQzAEz694Sher+6MesIrE3aAIlwNNal6x9NwmWjnqBKP7PKEa7elK5xjkndv1natJzwT3p/ziPCC2ThEuMKo2DxcJ8QR4QOYVZgAAQhAAALjJjBhET7dGzO9oSGTEuFGWIZ9GvliwoPieUcU4XVtOL+rjW82Q0bSjYursrX+eVlJNLh6sqQ77KZCLejtgnJFluXjkYw/3Z5dhGtvBUKZjSDC7bHp5tzzzStiwsf92Kd+CEAAAhAYAoHJifCuUhRWKE4wHMUmuCcmwm2ZMCzTzedxzDOa1HktRxHhHj7e7CiVDDOOTDFxt62ZZSru2SRcQt9AqxNLvbhaikbHXZwKyW8l357cfJvcdpwd1cVDwCbCzbh5W1YeC7NAEa5nPVHDdcrQnLjNq3J0W1301IxTAoPsKF3MCeqAAAQgAIHhE5iYCO/usJ7cm26HnWdcSXODP7IXssS/1w6dmm6vKGgRZ0EivC722kyj5/W+F/aY9bbLE263r6iroQivxl6bzOpir6siWc9frqbU00cvL1sjoAPH1GqfbdNhj55wdZFRTkdLCsx8s6kyCMbCI1CEx+1U8tInDI7KVUe4jxIRXr/YybgdG/PCZfiPZiyEAAQgAIFZJzAxET7VYJuGJgy4s6nHNjo91JkrvCPjJ8qsJjd7R92jmm4I+EKkummFWiAAAQhAAAKTJ4AIbzMGExWUbQyuuyY9NfPO4TEfjjJJZpNsu+vhmuX6kvCo18cevjPLCOkbBCAAAQhMDwFEeJuxmjVRl4dOnHTlDG8DSbtmYsx8Mcgd9I0qRifAcfWjM6QGCEAAAhCYKgKI8DbDNTFB2cbYwGsSL6TI5sGTMpY9hH0zU2O8fXmpAxF1Uswae26p+e3RZ9EpsvV/YZtEfbUM4fskDEXGuAgcQiexAQIQgAAEIKAQQIQzHSAAAQhAAAIQgAAEINAzAUR4z8BpDgIQgAAEIAABCEAAAohw5gAEIAABCEAAAhCAAAR6JoAI7xk4zUEAAhCAAAQgAAEIQAARzhyAAAQgAAEIQAACEIBAzwQQ4T0DpzkIQAACEIAABCAAAQggwpkDEIAABCAAAQhAAAIQ6JkAIrxn4DQHAQhAAAIQgAAEIAABRDhzAAIQgAAEIAABCEAAAj0TQIT3DJzmIAABCEAAAhCAAAQggAhnDkAAAhCAAAQgAAEIQKBnAojwnoHTHAQgAAEIQAACEIAABBDhzAEIQAACEIAABCAAAQj0TAAR3jNwmoMABCAAAQhAAAIQgAAinDkAAQhAAAIQgAAEIACBngkgwnsGTnMQgAAEIAABCEAAAhBAhDMHIAABCEAAAhCAAAQg0DMBRHjPwGkOAhCAAAQgAAEIQAACiHDmAAQgAAEIQAACEIAABHomgAjvGTjNQQACEIAABCAAAQhAABHOHIAABCAAAQhAAAIQgEDPBBDhPQOnOQhAAAIQgAAEIAABCCDCmQMQgAAEIAABCEAAAhDomQAivGfgNAcBCEAAAhCAAAQgAAFEOHMAAhCAAAQgAAEIQAACPRNAhPcMnOYgAAEIQAACEIAABCCACGcOQAACEIAABCAAAQhAoGcC0yHCb56Sj5+5I3L4vPzIw8vyjgqkm/KphTPyF+d35EOXn+0ZH821IXBr7ZCs3xM5sfFYbjzXpoaOr7m1Jodig/K/ExvyeBCGNe3nLVk7tC735IRsPL4h40SbjOHeWdnavijHQs3cvSTLK9dkvwf7Qk2qL5fy3Du7JdsXg3vZTdPU0opA/mxZtIzZ7qVlWbm2NPZ7o5XhDS/q6xkKs4YDQ3EINCTQUISHCd4/uXBEfvXKMXnfwW3pRBb3LcLvX5BPHr8i37F5ID/8QkOiFPcS6OsHxGuIUWBXLi2vyLUlRLiP3dBFeCv7jE4jwn3zwPV9qHjrZpxKK/oW4V3bH8q7r2do6DiG2j3Jcn0xm2QfaXv6CCgiPBXY+1EfnnR6lSckwmu5htnUaGi6EuH54sHS+OIcC/z0wS5ydmtbDAej7pVW2I3fcz7tIjyzXxp6qBvdHGnhSYmPUFO7sQ8RHspbLxcq3roZpzArQ20Kq22y90HtM7RJBzxlx8GsQ/MaVdUXs0ZGUXjuCZQiPBGMIsfP78rOK89bwj5iVmGCt3NP+JSL8HkW3LahCxHh4xfcVsum3BOOCM9HtRtxhwhv+wsZKt66GacwK0NtCqsNEd6E0xDKIsKHMArYoBMoRPj9UwvyGdmUj3zstSgU4xU5vPNQvj+LJUlF9SMnvdRz/lrhSbcXPKmEpyhi/j0/lcZ7Z38Vwap7kk9G9t3W40PKuk7LDyp2qu2J2BcG1UVFwqA0xeiGLqZ1LsYbhMz+ehF+X377yHHZOZazvyJfy1qu1hfILL428+Tn9YhUWUQFAtssJE0aa7w4fg9r5GJN4rPrRHjywy0bsvX0RuRRj97dxDHc5x5k8cZKrHkSg3xXViOP+9GraRx68ufsh98Tnj7I4/dF2Z8aP57ZbotHTV+F6rHaeQx3UZk1XlVv01Z/14+2/NVtcV9qMbaFeLou8mIS553+VcdN718d/4x9gXbR/qYkqsLJo4g5d9BoPH9LEX5dXlTG3RZzr9sfTzNLLLlhY7v4/YTB3dUoJv+oXE32AeRTe3xtJi0Y9qvj5Bjv8mZJ53eDcSqF8zl5EIeK5fNDG0t9vtqeH2Vdp+XVGmbWhUFm81K8j+WZfG9D6DwLn9td38ej1hfKzD43tLkd+Dy2L5bsC+La5/Goned6CPRAIBPhqcCTJEQiFWiPnrdtdOzKE16GvqgCMRW1kTdeWQCkDBTR6BLhhw9H4jX34GflpdzIGSLCC94B4SipYFfEbXaNqKE8TUR4ssY5XPbduDaMWb4wUIV/aqtSd87T22ZGpAgRcQujzuZqqAjfW5TFpXXZPv1qJNr3ZHFRZPV6ogjLmG71x74Qy5lQsG6+rBPh+Q+p+sOS1VUIApcn2tJmZlukNItNfzahbnxmua4z9klFep8U4aUwS4VKNAaRKIoXOXFYUYinye75NPnY68rHoDoPdy+tyafff6MS2tSNh1URlfoYa/sGbq0ty4NzSniVbUFmG7v4s6tHZbvhRuBSfCgsLPdOXk4VpemcanMvRzyWH8g5ZTOuq65Qr7NvnFSRVS5qau5hVSxrO5PThUu0ONrfl0RMx99bmHlFuFKvz/7iflLunZD7pNt7un1tocyC5pnyPK4by1ARbuMYf3b16PYwNvy3x86Vc0QgFeFZKEq+kTIRbbvtM5H4w1EyQalnO3GKX78I39fr0kRspyLcYafRRiMRrnur9QVPCDPXIim7tniTkPF85GszvxMswmxcN0moCM9FxOdSz3n6UJc0nCSPic4f+prgdguEGhGe2LVnemc1e60/sJZr68RokY3DIShCBU6bIXLVrffLLr7qFjipNbZ+29u0jIVrDCwd9YujEDr2eR/G37Iga2C/zzqb6MkFX5nNxRVO4x8nX/vF945FYRgj/94Cez9rrvOJ8MiVXvWSm+PUpQgPntvBwPstaOevMwucZ47nsc47VIR3c4/3y5PWIKATSER4EYqSe5kT8bhr8Uh37Am3hpfYBskvwo0UhZpnuksR7lxk6NycGzMtXmnFa2+fprqQtpSqEf3VhZX5pmAwt4ZzY2bpuas8fCsiWPtxcP0gO8WQW4Tbw0lKz7EunA0PdyWdn+tHq9q+U8h0KOaq414TU66xtP8A+mPSzes8zBVuDva8QwAABeRJREFUTX50m5R1z/26V+D+VHeGDYUnsI0XWhspa7o9zd6aBW03fCzzPzOzWxHu2MRtGzivCDfHTb+3uxPh4XN7MM9fzRDXOFaYhc4zx9i0FeHFW5LGYWZDpY1d80ggEuGbB2aebZfgmyIRrm0i7VKE18eO14WU1CwwOhPhtsVTFNBTCZ8Zvgj3xoTn4qxPEW7Ni216Fas/Kun3UTBs+YrUFxObee71ONfq7BldyJmzseZNgObxdIk4n7gzv/fEEXvCQFwPbZ8dYQ/7BiLcNaaGQAjbB+CzL8hbWLNYcy8q61s2YnCz4nr8+zSJcN3W7kR46Nz2jfbkvq9/M5YtaELnWcciPKEyM2c8TG6MaXmyBBYONk8eqBsjq+aEhitUrwoOR+nBE57n+u5ShPv7l/FoEo7ShwgvQowQ4dbQEmnjubIINfVHKQmXiTW4enhOWNaNUCHT3SPEL8LzWNpaT3hNnvUmnnC9X02EdZOyI3vCA1+zG+0UAqL55sxORHjDw5bCQmDSXobOXd84NY6fbusJ971xCRSQ1TH2b/Tu7t4dT021nvCKI8QSqpdoZOVQr0CGQXPb0t3CaTG1h62NZwypddgEFnZOyoE1/tsqIOvCQpSOOsNZ8jIBoRUVbs3DUfRNnlbhnPXRzIvu8fh7+zchEe5MIan3p6kIH2BM+AiecPcPf9uYcP0HKK3n7uqWrH9+JcnkUj2BM/DHeWxhJ+6HUpDnS/9xzasL2DRqY+8TYmX1NfnltS6FisD6x3OYJ9wlFIP61XKMw4RKfaxus5NA6zcdG3UF9ss3TuMX4b43WeqiQo8n9y82gubAgDVC3Ty7p212N+eTNv9GEeE1madUfNPOe8BTAdPGRGDh10UO7Ee+24WymWnDYlmeIs/p6R6zCA/JVKLEa5si3LVxMe+r7/tJifA8FWM1w4yRySXPjuL1vmf9GGR2lCxdYtNwlNqNnwHZUSoH4bg3uJWv7R1hI0E/KraMLGN6EhTVNsjkUvGk+uPB4ybqXvXvez1Y+ev9qufYlh0lf009WjrHMBFutqWkpFPCUeI5oWduGC0sRI9vNu21idi2babXKfPZmu0im0iOtwPG7PXcB+MW4TYWeptqCI4RJue7j0M5jPu2blm/TYSHMCvudTUta6AINzLWKCEn5f0c32NX5ei2+YaxXBy07DSXQaBHAgtX5fCBmRIwtcAUb8mnaY5pJW249YRNY1OimSd83xOOUhd7babgq1Kz5eau5vWO7fmY/JknHaOSEVr0Oq32qX0KOjEz1CsdvnAx8rrrmWOainBb2rpxTVLnxswyB3VFyAWIcHUMowRlRoaTuthrayYFpUKnyMt/fOs2DVnjiAPt8wrWUQbIjGV1iY9KKwE2uT1V9vhZc29AYD7uyDAjfrnxBq5AEW5pK7b79KvKq/hiPavkq48/a2xTWlGYJ1wtW5m0UX7xixJllWz4p7OPF0Npzm2rV924l+1hN3XjFCbC62KvlTZt95uDf+WZkJRJ87FX9nYU6w3t7ADvPoD0wskcSNZ0yC050R3MvPdbqAg37qd4DNM88fHbxe3imGVz3EdbdDdkQ3EIdEBAOba+g9qoAgJDIlATHzp2MwNCM8ZuwwAb4HXxAAcFkyAAAQhAYCIEEOETwU6jvRCYoAj3xbr20v/BNdJhfurB9Q2DIAABCEAAAs0IIMKb8aL0NBGYlAgPOHBomjC2tjXisCY3itSMYaEFrVvjQghAAAIQgMBUEUCET9VwYWwjAj2L8NoNXI0Mn53C1Xj7ceQ2nx1W9AQCIxHwnT+QV/7Ot4t88cvepqYiZt3bCwpAYNgEEOHDHh+sgwAEIAABCEAAAhCYQQKI8BkcVLoEAQhAAAIQgAAEIDBsAojwYY8P1kEAAhCAAAQgAAEIzCABRPgMDipdggAEIAABCEAAAhAYNgFE+LDHB+sgAAEIQAACEIAABGaQACJ8BgeVLkEAAhCAAAQgAAEIDJsAInzY44N1EIAABCAAAQhAAAIzSOD/A2Wkr1qh+pJeAAAAAElFTkSuQmCC)"
      ]
    },
    {
      "cell_type": "markdown",
      "metadata": {
        "id": "Qn9JgH-XpWlT"
      },
      "source": [
        "При виклику public та protected змфних вони без проблем виводяться на екран, але краще явно так не робити з змінами protected, бо нато вони такими створюються. А при виклику private змінної ми отримуємо помилку, вона недоступна напряму, можна лише через гетери та сетери отримувати та змінювати таку змінну."
      ]
    },
    {
      "cell_type": "markdown",
      "metadata": {
        "id": "5op2m2vgMSkZ"
      },
      "source": [
        "4. (7б). Як ви розумієте термін self? Для чого використовується метод __init __?"
      ]
    },
    {
      "cell_type": "markdown",
      "metadata": {
        "id": "DyiPqNRvMasx"
      },
      "source": [
        "self це такий параметр, який посилається на поточний об'єкт класу, а __init __ це конструктор класу, який ініціалізує атрибути об'єкта."
      ]
    },
    {
      "cell_type": "markdown",
      "metadata": {
        "id": "-6X8EGfjMd2y"
      },
      "source": [
        "5. (9б). Створіть клас 3D-фігура без атрибутів, з методом get_volume для отримання об'єму фігури, що повертає 0 та __add __, який приймає self та other в якості аргументів, а повертає суму об'ємів 3d-фігур self та other."
      ]
    },
    {
      "cell_type": "code",
      "execution_count": 39,
      "metadata": {
        "id": "4rvO_wYUMaEr"
      },
      "outputs": [],
      "source": [
        "class Shape3D:\n",
        "    def get_volume(self):\n",
        "        return 0\n",
        "\n",
        "    def __add__(self, other):\n",
        "        if not isinstance(other, Shape3D):\n",
        "            raise ValueError(\"Only objects Shape3D can be added\")\n",
        "        return self.get_volume() + other.get_volume()\n"
      ]
    },
    {
      "cell_type": "markdown",
      "metadata": {
        "id": "SFcKnnv5Mo_z"
      },
      "source": [
        "6. (11б). Створіть 2 дочірніх класи від 3d-фігура: Циліндр та Куб, які мають атрибути, необхідні для розрахунку об'єму. Визначте метод get_volume в кожному з них так, щоби вони розраховували об'єм у залежності від формули для кожного типу фігури. Створіть обʼєкт класу Циліндр та обʼєкт класу Куб. Виконайте операцію суми за допомогою оператора + між ними, аби знайти сумарний об'єм."
      ]
    },
    {
      "cell_type": "code",
      "execution_count": 40,
      "metadata": {
        "colab": {
          "base_uri": "https://localhost:8080/"
        },
        "id": "H3GVNr69Muf3",
        "outputId": "88d04822-1211-4865-ba24-5dacf7048652"
      },
      "outputs": [
        {
          "name": "stdout",
          "output_type": "stream",
          "text": [
            "Cylinder volume: 62.83\n",
            "Cube volume: 27\n",
            "Total volume: 89.83\n"
          ]
        }
      ],
      "source": [
        "import math\n",
        "\n",
        "class Cylinder(Shape3D):\n",
        "    def __init__(self, radius, height):\n",
        "        self.radius = radius\n",
        "        self.height = height\n",
        "\n",
        "    def get_volume(self):\n",
        "        return math.pi * (self.radius ** 2) * self.height\n",
        "\n",
        "class Cube(Shape3D):\n",
        "    def __init__(self, side_length):\n",
        "        self.side_length = side_length\n",
        "\n",
        "    def get_volume(self):\n",
        "        return self.side_length ** 3\n",
        "\n",
        "cylinder = Cylinder(radius=2, height=5)\n",
        "cube = Cube(side_length=3)\n",
        "\n",
        "print(f\"Cylinder volume: {cylinder.get_volume():.2f}\")\n",
        "print(f\"Cube volume: {cube.get_volume()}\")\n",
        "\n",
        "total_volume = cylinder + cube\n",
        "print(f\"Total volume: {total_volume:.2f}\")"
      ]
    },
    {
      "cell_type": "markdown",
      "metadata": {
        "id": "HCvR206YMvLK"
      },
      "source": [
        "7. (3б). Продемонструйте різницю між isinstance та issubclass."
      ]
    },
    {
      "cell_type": "code",
      "execution_count": 41,
      "metadata": {
        "colab": {
          "base_uri": "https://localhost:8080/"
        },
        "id": "L_V1bBvDM0GN",
        "outputId": "455fc44b-965d-4737-dba7-56753b67cc59"
      },
      "outputs": [
        {
          "data": {
            "text/plain": [
              "True"
            ]
          },
          "execution_count": 41,
          "metadata": {},
          "output_type": "execute_result"
        }
      ],
      "source": [
        "isinstance(cylinder, Shape3D)"
      ]
    },
    {
      "cell_type": "code",
      "execution_count": 42,
      "metadata": {
        "colab": {
          "base_uri": "https://localhost:8080/"
        },
        "id": "0mkvahz7wkIt",
        "outputId": "f1eb924a-3ed1-4270-9747-9f1de945b0a1"
      },
      "outputs": [
        {
          "data": {
            "text/plain": [
              "True"
            ]
          },
          "execution_count": 42,
          "metadata": {},
          "output_type": "execute_result"
        }
      ],
      "source": [
        "isinstance(cylinder, Cylinder)"
      ]
    },
    {
      "cell_type": "code",
      "execution_count": 43,
      "metadata": {
        "colab": {
          "base_uri": "https://localhost:8080/"
        },
        "id": "PDsR2LAhwpln",
        "outputId": "39b17cc7-e2fb-47f8-98f2-f252adbf2d58"
      },
      "outputs": [
        {
          "data": {
            "text/plain": [
              "False"
            ]
          },
          "execution_count": 43,
          "metadata": {},
          "output_type": "execute_result"
        }
      ],
      "source": [
        "isinstance(cube, Cylinder)"
      ]
    },
    {
      "cell_type": "code",
      "execution_count": 44,
      "metadata": {
        "colab": {
          "base_uri": "https://localhost:8080/"
        },
        "id": "yjHPnAJlweMG",
        "outputId": "470f87f5-e5c1-4cd0-9624-19509e0fc3fe"
      },
      "outputs": [
        {
          "data": {
            "text/plain": [
              "True"
            ]
          },
          "execution_count": 44,
          "metadata": {},
          "output_type": "execute_result"
        }
      ],
      "source": [
        "issubclass(Cube, Shape3D)"
      ]
    },
    {
      "cell_type": "code",
      "execution_count": 45,
      "metadata": {
        "colab": {
          "base_uri": "https://localhost:8080/"
        },
        "id": "Xk4yI9s9wxpX",
        "outputId": "807312d2-cc09-40d3-9f20-4984ebe62d8f"
      },
      "outputs": [
        {
          "data": {
            "text/plain": [
              "False"
            ]
          },
          "execution_count": 45,
          "metadata": {},
          "output_type": "execute_result"
        }
      ],
      "source": [
        "issubclass(Cube, Building)"
      ]
    },
    {
      "cell_type": "markdown",
      "metadata": {
        "id": "evgiFikUw46E"
      },
      "source": [
        "isistance() перевіряє, чи є об'єкт екземпляром певного класу або його підкласу, а issubclass() чи є один клас підкласом іншого класу."
      ]
    },
    {
      "cell_type": "markdown",
      "metadata": {
        "id": "jjsaBZ-iM0Qq"
      },
      "source": [
        "8. (13б). Створіть клас EWallet з приватними атрибутами balance та id. Реалізуйте методи поповнення та зняття коштів, забезпечивши належну інкапсуляцію. Підказка: використовуйте декоратори property та setter."
      ]
    },
    {
      "cell_type": "code",
      "execution_count": 48,
      "metadata": {
        "colab": {
          "base_uri": "https://localhost:8080/"
        },
        "id": "xCvZ7lh8M7YA",
        "outputId": "8597c2bc-0876-47d6-abae-6fa2346a6ae7"
      },
      "outputs": [
        {
          "name": "stdout",
          "output_type": "stream",
          "text": [
            "Wallet ID: 12345, Balance: 1000\n",
            "Wallet 12345 topped up by 500. New balance: 1500\n",
            "Withdrawn 200 from wallet 12345. New balance: 1300\n"
          ]
        }
      ],
      "source": [
        "class EWallet:\n",
        "    def __init__(self, wallet_id, initial_balance=0):\n",
        "        self._id = wallet_id\n",
        "        self._balance = initial_balance\n",
        "\n",
        "    @property\n",
        "    def id(self):\n",
        "        return self._id\n",
        "\n",
        "    @property\n",
        "    def balance(self):\n",
        "        return self._balance\n",
        "\n",
        "    @balance.setter\n",
        "    def balance(self, value):\n",
        "        if value < 0:\n",
        "            raise ValueError(\"Balance cannot be negative\")\n",
        "        self._balance = value\n",
        "\n",
        "    def deposit(self, amount):\n",
        "        if amount < 0:\n",
        "            raise ValueError(\"Deposit amount cannot be negative\")\n",
        "        self.balance += amount\n",
        "        print(f\"Wallet {self.id} topped up by {amount}. New balance: {self.balance}\")\n",
        "\n",
        "    def withdraw(self, amount):\n",
        "        if amount < 0:\n",
        "            raise ValueError(\"Withdrawal amount cannot be negative\")\n",
        "        if amount > self.balance:\n",
        "            raise ValueError(\"Insufficient funds\")\n",
        "        self.balance -= amount\n",
        "        print(f\"Withdrawn {amount} from wallet {self.id}. New balance: {self.balance}\")\n",
        "\n",
        "    def __str__(self):\n",
        "        return f\"Wallet ID: {self.id}, Balance: {self.balance}\"\n",
        "\n",
        "wallet = EWallet(\"12345\", 1000)\n",
        "print(wallet)\n",
        "\n",
        "wallet.deposit(500)\n",
        "wallet.withdraw(200)"
      ]
    },
    {
      "cell_type": "markdown",
      "metadata": {
        "id": "tIzL2SJTM8ft"
      },
      "source": [
        "9. (11б). Створіть клас ShoppingCart, який містить список об'єктів типу Item. Реалізуйте методи для додавання айтемів, їх видалення та відображення списку айтемів."
      ]
    },
    {
      "cell_type": "code",
      "execution_count": 51,
      "metadata": {
        "colab": {
          "base_uri": "https://localhost:8080/"
        },
        "id": "HWxfJKLtNAUZ",
        "outputId": "86a58e33-7e8f-4893-edba-ee0e86e518df"
      },
      "outputs": [
        {
          "name": "stdout",
          "output_type": "stream",
          "text": [
            "Added Apple to the cart.\n",
            "Added Banana to the cart.\n",
            "Added Orange to the cart.\n",
            "Items in the cart:\n",
            "- Apple (8.50 uah)\n",
            "- Banana (14.75 uah)\n",
            "- Orange (11.20 uah)\n",
            "Total: 34.45 uah\n",
            "Removed Banana from the cart.\n",
            "Items in the cart:\n",
            "- Apple (8.50 uah)\n",
            "- Orange (11.20 uah)\n",
            "Total: 19.70 uah\n",
            "Item 'Milk' not found in the cart.\n"
          ]
        }
      ],
      "source": [
        "class Item:\n",
        "    def __init__(self, name, price):\n",
        "        self.name = name\n",
        "        self.price = price\n",
        "\n",
        "    def __str__(self):\n",
        "        return f\"{self.name} ({self.price:.2f} uah)\"\n",
        "\n",
        "\n",
        "class ShoppingCart:\n",
        "    def __init__(self):\n",
        "        self.items = []\n",
        "\n",
        "    def add_item(self, item):\n",
        "        self.items.append(item)\n",
        "        print(f\"Added {item.name} to the cart.\")\n",
        "\n",
        "    def remove_item(self, item_name):\n",
        "        for item in self.items:\n",
        "            if item.name == item_name:\n",
        "                self.items.remove(item)\n",
        "                print(f\"Removed {item_name} from the cart.\")\n",
        "                return\n",
        "        print(f\"Item '{item_name}' not found in the cart.\")\n",
        "\n",
        "    def display_cart(self):\n",
        "        if not self.items:\n",
        "            print(\"The cart is empty.\")\n",
        "        else:\n",
        "            print(\"Items in the cart:\")\n",
        "            for item in self.items:\n",
        "                print(f\"- {item}\")\n",
        "            total = sum(item.price for item in self.items)\n",
        "            print(f\"Total: {total:.2f} uah\")\n",
        "\n",
        "\n",
        "cart = ShoppingCart()\n",
        "item1 = Item(\"Apple\", 8.5)\n",
        "item2 = Item(\"Banana\", 14.75)\n",
        "item3 = Item(\"Orange\", 11.2)\n",
        "\n",
        "cart.add_item(item1)\n",
        "cart.add_item(item2)\n",
        "cart.add_item(item3)\n",
        "\n",
        "cart.display_cart()\n",
        "\n",
        "cart.remove_item(\"Banana\")\n",
        "\n",
        "cart.display_cart()\n",
        "\n",
        "cart.remove_item(\"Milk\")"
      ]
    },
    {
      "cell_type": "markdown",
      "metadata": {
        "id": "lmV8pAwwNIqu"
      },
      "source": [
        "10. (13б). Створіть клас Vehicle з атрибутами brand (manufacturer) та production_age. Створіть ще один клас Engine з такими атрибутами, як type (ex. petrol) та size (volume, litres). Створіть клас Car, який успадковує обидва класи Vehicle та Engine. Продемонструйте використання множинної спадковості, створивши обʼєкт класу Car та отримавши mro для цього класу."
      ]
    },
    {
      "cell_type": "code",
      "execution_count": 52,
      "metadata": {
        "colab": {
          "base_uri": "https://localhost:8080/"
        },
        "id": "R49grKlWNPeN",
        "outputId": "8b3559a7-36bc-485f-b5ea-d128b71ee194"
      },
      "outputs": [
        {
          "name": "stdout",
          "output_type": "stream",
          "text": [
            "[<class '__main__.Car'>, <class '__main__.Vehicle'>, <class '__main__.Engine'>, <class 'object'>]\n"
          ]
        }
      ],
      "source": [
        "class Vehicle:\n",
        "  def __init__(self, brand, production_age):\n",
        "    self.brand = brand\n",
        "    self.production_age = production_age\n",
        "\n",
        "class Engine:\n",
        "  def __init__(self, engine_type, size):\n",
        "    self.engine_type = engine_type\n",
        "    self.size = size\n",
        "\n",
        "class Car(Vehicle, Engine):\n",
        "  def __init__(self, brand, production_year, engine_type, size):\n",
        "        Vehicle.__init__(self, brand, production_year)\n",
        "        Engine.__init__(self, engine_type, size)\n",
        "\n",
        "porsche = Car(\"Porsche\", 2023, \"Petrol\", 3.0)\n",
        "\n",
        "print(Car.mro())"
      ]
    },
    {
      "cell_type": "markdown",
      "metadata": {
        "id": "dIJyUiNBFG8G"
      },
      "source": [
        "# II. Iterator"
      ]
    },
    {
      "cell_type": "markdown",
      "metadata": {
        "id": "13vsm0NyKIzL"
      },
      "source": [
        "11. (4б). Визначте рядок(str) з 4ма різними за значенням символами. Створіть ітератор на основі цього рядка. Викличте 5 разів функцію next на ітераторі, 4ри перших з них огорніть у ф-цію print()."
      ]
    },
    {
      "cell_type": "code",
      "execution_count": 54,
      "metadata": {
        "colab": {
          "base_uri": "https://localhost:8080/",
          "height": 250
        },
        "id": "81ntabAkKuz-",
        "outputId": "d9aacf7c-71f4-4e78-f1d0-b10d50cc823d"
      },
      "outputs": [
        {
          "name": "stdout",
          "output_type": "stream",
          "text": [
            "v\n",
            "a\n",
            "l\n",
            "e\n"
          ]
        },
        {
          "ename": "StopIteration",
          "evalue": "",
          "output_type": "error",
          "traceback": [
            "\u001b[0;31m---------------------------------------------------------------------------\u001b[0m",
            "\u001b[0;31mStopIteration\u001b[0m                             Traceback (most recent call last)",
            "\u001b[0;32m<ipython-input-54-2e03762fb205>\u001b[0m in \u001b[0;36m<cell line: 0>\u001b[0;34m()\u001b[0m\n\u001b[1;32m      7\u001b[0m \u001b[0mprint\u001b[0m\u001b[0;34m(\u001b[0m\u001b[0mnext\u001b[0m\u001b[0;34m(\u001b[0m\u001b[0mmy_iterator\u001b[0m\u001b[0;34m)\u001b[0m\u001b[0;34m)\u001b[0m\u001b[0;34m\u001b[0m\u001b[0;34m\u001b[0m\u001b[0m\n\u001b[1;32m      8\u001b[0m \u001b[0mprint\u001b[0m\u001b[0;34m(\u001b[0m\u001b[0mnext\u001b[0m\u001b[0;34m(\u001b[0m\u001b[0mmy_iterator\u001b[0m\u001b[0;34m)\u001b[0m\u001b[0;34m)\u001b[0m\u001b[0;34m\u001b[0m\u001b[0;34m\u001b[0m\u001b[0m\n\u001b[0;32m----> 9\u001b[0;31m \u001b[0mnext\u001b[0m\u001b[0;34m(\u001b[0m\u001b[0mmy_iterator\u001b[0m\u001b[0;34m)\u001b[0m\u001b[0;34m\u001b[0m\u001b[0;34m\u001b[0m\u001b[0m\n\u001b[0m",
            "\u001b[0;31mStopIteration\u001b[0m: "
          ]
        }
      ],
      "source": [
        "my_string = \"vale\"\n",
        "\n",
        "my_iterator = iter(my_string)\n",
        "\n",
        "print(next(my_iterator))\n",
        "print(next(my_iterator))\n",
        "print(next(my_iterator))\n",
        "print(next(my_iterator))\n",
        "next(my_iterator)"
      ]
    },
    {
      "cell_type": "markdown",
      "metadata": {
        "id": "aekWHGXOLRsO"
      },
      "source": [
        "А що якщо викликати цю ж функцію на рядку?"
      ]
    },
    {
      "cell_type": "code",
      "execution_count": 55,
      "metadata": {
        "colab": {
          "base_uri": "https://localhost:8080/",
          "height": 144
        },
        "id": "mxATGsErLV1i",
        "outputId": "191ed0af-7792-409d-f137-41be722f1842"
      },
      "outputs": [
        {
          "ename": "TypeError",
          "evalue": "'str' object is not an iterator",
          "output_type": "error",
          "traceback": [
            "\u001b[0;31m---------------------------------------------------------------------------\u001b[0m",
            "\u001b[0;31mTypeError\u001b[0m                                 Traceback (most recent call last)",
            "\u001b[0;32m<ipython-input-55-536fe210e95a>\u001b[0m in \u001b[0;36m<cell line: 0>\u001b[0;34m()\u001b[0m\n\u001b[0;32m----> 1\u001b[0;31m \u001b[0mnext\u001b[0m\u001b[0;34m(\u001b[0m\u001b[0mmy_string\u001b[0m\u001b[0;34m)\u001b[0m\u001b[0;34m\u001b[0m\u001b[0;34m\u001b[0m\u001b[0m\n\u001b[0m",
            "\u001b[0;31mTypeError\u001b[0m: 'str' object is not an iterator"
          ]
        }
      ],
      "source": [
        "next(my_string)"
      ]
    },
    {
      "cell_type": "markdown",
      "metadata": {
        "id": "M0CPkr8r8rM6"
      },
      "source": [
        "Це призведе до помилки TypeError, так як рядок сам по собі не є ітератором він є ітерованим об'єктом, щоб отримати ітератор, потрібно спочатку викликати функцію iter()."
      ]
    },
    {
      "cell_type": "markdown",
      "metadata": {
        "id": "XwtMEopwJ4pH"
      },
      "source": [
        " 12. (5б). Опишіть своїми словами в одному реченні, як ви розумієте різницю між ітерабельними обʼєктами та ітераторами (можна на прикладі)."
      ]
    },
    {
      "cell_type": "markdown",
      "metadata": {
        "id": "-sHrODc3KFn8"
      },
      "source": [
        "Ітеровані об'єкти - це об'єкти, які можна перебирати, але самі по собі  вони не вміють повертати наступний елемент, а ітератори - це об'єкти, в яких реалізовано метод __next __, які можуть повертати наступний елемент при кожному виклику next().\n",
        "Ітерованими об'єктами є список або рядок, по яким ми проходимося циклом for, але ми не мможемо передавати наступний елемент. А за допомогою ітератора який ми створимо за допомогою iter() - можемо."
      ]
    },
    {
      "cell_type": "markdown",
      "metadata": {
        "id": "E9qJWmNbK8Gl"
      },
      "source": [
        "13. (11б). Створіть клас, що має визначений Iterator Protocol та при кожному виклику next повертає назву дня тижня, поки вони не вичерпаються. Зверніть увагу, що порядок має значення."
      ]
    },
    {
      "cell_type": "code",
      "execution_count": 59,
      "metadata": {
        "colab": {
          "base_uri": "https://localhost:8080/"
        },
        "id": "cqx-g_RsLo6I",
        "outputId": "938a041e-90d2-4399-b592-f5898026e385"
      },
      "outputs": [
        {
          "name": "stdout",
          "output_type": "stream",
          "text": [
            "Monday\n",
            "Tuesday\n",
            "Wednesday\n",
            "Thursday\n",
            "Friday\n",
            "Saturday\n",
            "Sunday\n",
            "Monday\n"
          ]
        }
      ],
      "source": [
        "class WeekDaysIterator:\n",
        "    def __init__(self):\n",
        "        self.days = [\"Monday\", \"Tuesday\", \"Wednesday\", \"Thursday\", \"Friday\", \"Saturday\", \"Sunday\"]\n",
        "        self.index = 0\n",
        "\n",
        "    def __iter__(self):\n",
        "        return self\n",
        "\n",
        "    def __next__(self):\n",
        "        if self.index >= len(self.days):\n",
        "          # after the last day of the week, the new week starts again with the monday\n",
        "          self.index = 0\n",
        "        day = self.days[self.index]\n",
        "        self.index += 1\n",
        "        return day\n",
        "\n",
        "week_days = WeekDaysIterator()\n",
        "\n",
        "print(next(week_days))\n",
        "print(next(week_days))\n",
        "print(next(week_days))\n",
        "print(next(week_days))\n",
        "print(next(week_days))\n",
        "print(next(week_days))\n",
        "print(next(week_days))\n",
        "print(next(week_days))"
      ]
    }
  ],
  "metadata": {
    "colab": {
      "provenance": [],
      "toc_visible": true
    },
    "kernelspec": {
      "display_name": "Python 3",
      "name": "python3"
    },
    "language_info": {
      "name": "python"
    }
  },
  "nbformat": 4,
  "nbformat_minor": 0
}
