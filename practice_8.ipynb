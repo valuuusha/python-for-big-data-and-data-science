{
  "nbformat": 4,
  "nbformat_minor": 0,
  "metadata": {
    "colab": {
      "provenance": [],
      "collapsed_sections": [
        "dwSyU2AjXwc-"
      ]
    },
    "kernelspec": {
      "name": "python3",
      "display_name": "Python 3 (ipykernel)",
      "language": "python"
    },
    "language_info": {
      "name": "python"
    }
  },
  "cells": [
    {
      "cell_type": "markdown",
      "source": [
        "# I. NumPy."
      ],
      "metadata": {
        "id": "UfI7FZudfGwv"
      }
    },
    {
      "cell_type": "markdown",
      "source": [
        "**При реалізації завдань потрібно використовувати методи з бібліотеки numpy.**\n",
        "\n",
        "**Рішення з циклами будуть оцінені в 0 балів.**"
      ],
      "metadata": {
        "id": "fQcvdlwdimQb"
      }
    },
    {
      "cell_type": "markdown",
      "source": [
        "1. (2б) Імпортувати numpy загальноприйнятим способом."
      ],
      "metadata": {
        "id": "XmA3PWg8fJxn"
      }
    },
    {
      "cell_type": "code",
      "execution_count": 117,
      "metadata": {
        "id": "JUli5tR8eTXG"
      },
      "outputs": [],
      "source": [
        "import numpy as np"
      ]
    },
    {
      "cell_type": "markdown",
      "source": [
        "2. (3б) Визначити список з оцінками студента(ки) за семестр. Використовуючи його, створити одновимірний масив numpy."
      ],
      "metadata": {
        "id": "fppWPwoFjTrl"
      }
    },
    {
      "cell_type": "code",
      "source": [
        "marks = [93, 87, 91, 95, 88]\n",
        "np_marks = np.array(marks)\n",
        "np_marks"
      ],
      "metadata": {
        "id": "cuvs9lNAjVoB",
        "ExecuteTime": {
          "end_time": "2025-04-12T15:38:32.396669Z",
          "start_time": "2025-04-12T15:38:31.600086Z"
        },
        "colab": {
          "base_uri": "https://localhost:8080/"
        },
        "outputId": "08634882-224c-4d40-b956-e8814fc9f35a"
      },
      "outputs": [
        {
          "output_type": "execute_result",
          "data": {
            "text/plain": [
              "array([93, 87, 91, 95, 88])"
            ]
          },
          "metadata": {},
          "execution_count": 118
        }
      ],
      "execution_count": 118
    },
    {
      "cell_type": "markdown",
      "source": [
        "3. (4б) Визначити список зі списками, де кожен рядок списку формально означає магазин, а кожна колонка - певний продукт (батон, яйця першої категорії, молоко та ковбаса), а елементами на пересічі є ціни на ці продукти відповідно. Використовуючи цей список, створити матрицю (двовимірний масив) numpy."
      ],
      "metadata": {
        "id": "OGeLtAwcjcMB"
      }
    },
    {
      "cell_type": "code",
      "source": [
        "shops = [\n",
        "    [28.0, 75.0, 42.5, 321.0],  # Фора\n",
        "    [30.0, 80.0, 45.0, 349.9],  # Сільпо\n",
        "    [25.5, 72.0, 40.0, 300.0],  # АТБ\n",
        "]\n",
        "prices = np.array(shops)\n",
        "prices"
      ],
      "metadata": {
        "id": "zJ9kEAv5jcVo",
        "colab": {
          "base_uri": "https://localhost:8080/"
        },
        "outputId": "682a18ff-d6bb-453a-b431-4e47b21d0cf7"
      },
      "execution_count": 119,
      "outputs": [
        {
          "output_type": "execute_result",
          "data": {
            "text/plain": [
              "array([[ 28. ,  75. ,  42.5, 321. ],\n",
              "       [ 30. ,  80. ,  45. , 349.9],\n",
              "       [ 25.5,  72. ,  40. , 300. ]])"
            ]
          },
          "metadata": {},
          "execution_count": 119
        }
      ]
    },
    {
      "cell_type": "markdown",
      "source": [
        "4. (3б) Отримайте тип даних значень з масивів завдань 2 та 3. Виведіть їх на екран."
      ],
      "metadata": {
        "id": "wK7wrEw2jcix"
      }
    },
    {
      "cell_type": "code",
      "source": [
        "print(np_marks.dtype)\n",
        "print(prices.dtype)"
      ],
      "metadata": {
        "id": "uDBL1x6vjcq9",
        "colab": {
          "base_uri": "https://localhost:8080/"
        },
        "outputId": "fc5d6a3a-69c0-4cf4-8b53-24747c0b5209"
      },
      "execution_count": 120,
      "outputs": [
        {
          "output_type": "stream",
          "name": "stdout",
          "text": [
            "int64\n",
            "float64\n"
          ]
        }
      ]
    },
    {
      "cell_type": "markdown",
      "source": [
        "5. (3б) Отримайте форми (кортеж з кількістю рядків та колонок) масивів завдань 2 та 3. Виведіть їх на екран."
      ],
      "metadata": {
        "id": "nNhAgsC3jcyp"
      }
    },
    {
      "cell_type": "code",
      "source": [
        "print(np_marks.shape)\n",
        "print(prices.shape)"
      ],
      "metadata": {
        "id": "Fi5oXTI8jc4-",
        "colab": {
          "base_uri": "https://localhost:8080/"
        },
        "outputId": "07e3c878-5fd3-4ead-f9f1-036b4f752850"
      },
      "execution_count": 121,
      "outputs": [
        {
          "output_type": "stream",
          "name": "stdout",
          "text": [
            "(5,)\n",
            "(3, 4)\n"
          ]
        }
      ]
    },
    {
      "cell_type": "markdown",
      "source": [
        "6. (5б) Поясніть, чому для масиву із завдання 2 ми отримали саме такий результат. На основі того ж самого масиву з цілими числами-оцінками створіть вектор-стовбець (не вектор-рядок!)."
      ],
      "metadata": {
        "id": "xYWQt0nwjc_i"
      }
    },
    {
      "cell_type": "markdown",
      "source": [
        "Функція np.array() перетворює python список на одновимірний масив numpy, тож за замовчуванням масив створюється у вигляді вектора-рядка."
      ],
      "metadata": {
        "id": "9IKiIbDBlF8S"
      }
    },
    {
      "cell_type": "code",
      "source": [
        "np_marks = np_marks.reshape(5,1)\n",
        "np_marks"
      ],
      "metadata": {
        "id": "BHzbXm1bjdFa",
        "colab": {
          "base_uri": "https://localhost:8080/"
        },
        "outputId": "67313818-f4cb-49da-eaf5-effceea2db9c"
      },
      "execution_count": 122,
      "outputs": [
        {
          "output_type": "execute_result",
          "data": {
            "text/plain": [
              "array([[93],\n",
              "       [87],\n",
              "       [91],\n",
              "       [95],\n",
              "       [88]])"
            ]
          },
          "metadata": {},
          "execution_count": 122
        }
      ]
    },
    {
      "cell_type": "markdown",
      "source": [
        "7. (6б) Тезисно поясніть різницю між Python списком та NumPy масивом."
      ],
      "metadata": {
        "id": "ilXJhOdujdLQ"
      }
    },
    {
      "cell_type": "markdown",
      "source": [
        "Python списки можуть містити елементи різних типів, numpy масиви ж вимагають, щоб всі елементи були одного типу. За рахунок цього вони використовують пам'ять ефективніше, а так як вони використовуються більше для чисельних обчислень (з цього й NUMpy), вони й мають більше вбудованих математичних функцій."
      ],
      "metadata": {
        "id": "wM6QUiR4lhP5"
      }
    },
    {
      "cell_type": "markdown",
      "source": [
        "8. (7б) Створіть одновимірний масив за допомогою спеціальної функції numpy, який би відображав динаміку стабільно зростаючого (з рівними проміжками) прибутку з продажів  за тиждень, де у перший день не було продажів, а в останній день тижня вдалося заробити 1000 грн 50 коп."
      ],
      "metadata": {
        "id": "bpY-N8QZjdW-"
      }
    },
    {
      "cell_type": "code",
      "source": [
        "week_sales = 1000.50\n",
        "day_sales = week_sales / 6\n",
        "\n",
        "# two options using np.arange() and np.linspace()\n",
        "sales_ar = np.arange(0, 1000.51, day_sales)\n",
        "sales_li = np.linspace(0, 1000.5, num=7)\n",
        "\n",
        "print(sales_ar)\n",
        "print(sales_li)"
      ],
      "metadata": {
        "id": "r3LcjnUKjdeu",
        "colab": {
          "base_uri": "https://localhost:8080/"
        },
        "outputId": "97a0cc5f-3b23-4d6d-866c-9591b25702ef"
      },
      "execution_count": 123,
      "outputs": [
        {
          "output_type": "stream",
          "name": "stdout",
          "text": [
            "[   0.    166.75  333.5   500.25  667.    833.75 1000.5 ]\n",
            "[   0.    166.75  333.5   500.25  667.    833.75 1000.5 ]\n"
          ]
        }
      ]
    },
    {
      "cell_type": "markdown",
      "source": [
        "9. (8б) Створіть два масиви. Використовуючи їх, продемонструйте відмінність вертикального та горизонтального обʼєднання масивів."
      ],
      "metadata": {
        "id": "zQM0SY9jjebO"
      }
    },
    {
      "cell_type": "code",
      "source": [
        "a1 = np.array([[1, 1], [1, 1]])\n",
        "a2 = np.array([[0, 0], [0, 0]])\n",
        "\n",
        "vertical = np.vstack((a1, a2))\n",
        "horizontal = np.hstack((a1, a2))\n",
        "\n",
        "print(vertical)\n",
        "print(horizontal)"
      ],
      "metadata": {
        "id": "8uoi0_lxjeh-",
        "colab": {
          "base_uri": "https://localhost:8080/"
        },
        "outputId": "67c64593-dd4a-493b-a157-746f6ff5bc54"
      },
      "execution_count": 124,
      "outputs": [
        {
          "output_type": "stream",
          "name": "stdout",
          "text": [
            "[[1 1]\n",
            " [1 1]\n",
            " [0 0]\n",
            " [0 0]]\n",
            "[[1 1 0 0]\n",
            " [1 1 0 0]]\n"
          ]
        }
      ]
    },
    {
      "cell_type": "markdown",
      "source": [
        "10. (12б) Визначити функцію, яка приймає на вході масив і транспонує його. Скористайтесь методом reshape. І не забудьте почати з docstrings."
      ],
      "metadata": {
        "id": "Fwh5D1pDm3t7"
      }
    },
    {
      "cell_type": "code",
      "source": [
        "def transpose(arr: np.array) -> np.array:\n",
        "  \"\"\"\n",
        "  Function applies to matrix and  performs transposition\n",
        "\n",
        "  Transposes the original matrix by converting rows into columns\n",
        "  and columns into rows through reshaping the array's dimensions.\n",
        "\n",
        "  Arguments:\n",
        "  arr(np.array): input matrix of shape (m, n) to be transposed.\n",
        "\n",
        "  Returns:\n",
        "  np.array: transposed matrix of shape (n, m) where rows and columns are swapped.\n",
        "  \"\"\"\n",
        "  rows, cols = arr.shape\n",
        "  transposed = arr.flatten(order='F').reshape(cols, rows)\n",
        "\n",
        "  return transposed"
      ],
      "metadata": {
        "id": "FSWZq0mkm31Z"
      },
      "execution_count": 141,
      "outputs": []
    },
    {
      "cell_type": "code",
      "source": [
        "matrix_original = np.array([\n",
        "    [1, 1, 1, 1],\n",
        "    [2, 2, 2, 2],\n",
        "    [3, 3, 3, 3]\n",
        "])\n",
        "matrix_transposed = transpose(matrix_original)\n",
        "print(matrix_transposed)\n"
      ],
      "metadata": {
        "colab": {
          "base_uri": "https://localhost:8080/"
        },
        "id": "3viWC3mp5Utp",
        "outputId": "c8848fd9-9b7d-46d1-c798-449173d958c0"
      },
      "execution_count": 142,
      "outputs": [
        {
          "output_type": "stream",
          "name": "stdout",
          "text": [
            "[[1 2 3]\n",
            " [1 2 3]\n",
            " [1 2 3]\n",
            " [1 2 3]]\n"
          ]
        }
      ]
    },
    {
      "cell_type": "markdown",
      "source": [
        "11. (7б) Створіть два масиви. Використовучи ці масиви, продемонструйте 1) операцію по-елементного додавання, 2) операцію по-елементного віднімання, 3) множення масиву на число, 4) операцію по-елементного множення, і 5) матричного множення."
      ],
      "metadata": {
        "id": "Nnxk8vqYm379"
      }
    },
    {
      "cell_type": "code",
      "source": [
        "array1 = np.array([[1, 2], [3, 4]])\n",
        "array2 = np.array([[5, 6], [7, 8]])\n",
        "\n",
        "print(\"1)Element-wise addition:\")\n",
        "print(array1 + array2)\n",
        "\n",
        "print(\"\\n2)Element-wise subtraction:\")\n",
        "print(array1 - array2)\n",
        "\n",
        "print(\"\\n3)Scalar multiplication:\")\n",
        "print(array1 * 3)\n",
        "\n",
        "print(\"\\n4)Element-wise multiplication:\")\n",
        "print(array1 * array2)\n",
        "\n",
        "print(\"\\n5)Matrix multiplication:\")\n",
        "print(np.dot(array1, array2))"
      ],
      "metadata": {
        "id": "qO1rfvmVm4BI",
        "colab": {
          "base_uri": "https://localhost:8080/"
        },
        "outputId": "c0e58a78-c48b-4db4-c7e1-de427669e567"
      },
      "execution_count": 132,
      "outputs": [
        {
          "output_type": "stream",
          "name": "stdout",
          "text": [
            "1)Element-wise addition:\n",
            "[[ 6  8]\n",
            " [10 12]]\n",
            "\n",
            "2)Element-wise subtraction:\n",
            "[[-4 -4]\n",
            " [-4 -4]]\n",
            "\n",
            "3)Scalar multiplication:\n",
            "[[ 3  6]\n",
            " [ 9 12]]\n",
            "\n",
            "4)Element-wise multiplication:\n",
            "[[ 5 12]\n",
            " [21 32]]\n",
            "\n",
            "5)Matrix multiplication:\n",
            "[[19 22]\n",
            " [43 50]]\n"
          ]
        }
      ]
    },
    {
      "cell_type": "markdown",
      "source": [
        "12. (7б) Створіть двовимірний масив (матрицю) та розрахуйте: 1) мінімальне число, 2) максимальне число, 3) суму чисел, 4) мінімальні числа для кожного рядка, 5) максимальні числа для кожного стовпчика."
      ],
      "metadata": {
        "id": "7aGdszTGuMCC"
      }
    },
    {
      "cell_type": "code",
      "source": [
        "matrix = np.array([\n",
        "    [1, 2, 3, 4],\n",
        "    [1, 0, 1, 0],\n",
        "    [5, 6, 7, 8]\n",
        "])\n",
        "\n",
        "print(f\"Min: {matrix.min()}\")\n",
        "print(f\"Max: {matrix.max()}\")\n",
        "print(f\"Sum: {matrix.sum()}\")\n",
        "print(f\"Row min: {np.min(matrix, axis=1)}\")\n",
        "print(f\"Column min: {np.max(matrix, axis=0)}\")"
      ],
      "metadata": {
        "id": "RL_39YdauMKS",
        "colab": {
          "base_uri": "https://localhost:8080/"
        },
        "outputId": "24f1cc94-3916-495f-85c9-c4ffaf9a121d"
      },
      "execution_count": 128,
      "outputs": [
        {
          "output_type": "stream",
          "name": "stdout",
          "text": [
            "Min: 0\n",
            "Max: 8\n",
            "Sum: 38\n",
            "Row min: [1 0 5]\n",
            "Column min: [5 6 7 8]\n"
          ]
        }
      ]
    },
    {
      "cell_type": "markdown",
      "source": [
        "13. (6б) Використовуючи двовимірний масив з попереднього завдання, отримайте значення першого та другого стовпчика всіх рядків, окрім першого та останнього."
      ],
      "metadata": {
        "id": "uvyeF79RuMQz"
      }
    },
    {
      "cell_type": "code",
      "source": [
        "result = matrix[1:-1, 0:2]\n",
        "print(result)"
      ],
      "metadata": {
        "id": "NH6zBoNhuMWp",
        "colab": {
          "base_uri": "https://localhost:8080/"
        },
        "outputId": "db14f0a7-a12f-4500-c5a1-8970575caa57"
      },
      "execution_count": 129,
      "outputs": [
        {
          "output_type": "stream",
          "name": "stdout",
          "text": [
            "[[1 0]]\n"
          ]
        }
      ]
    },
    {
      "cell_type": "markdown",
      "source": [
        "14. (7б) Створіть матрицю , де деякі елементи повторюються. Знайдіть унікальні значення елементів цієї матриці та їхні частоти."
      ],
      "metadata": {
        "id": "g3DK8A3YuMcE"
      }
    },
    {
      "cell_type": "code",
      "source": [
        "matrix2 = np.array([\n",
        "    [1, 2, 1, 4],\n",
        "    [1, 0, 1, 0],\n",
        "    [1, 6, 1, 8]\n",
        "])\n",
        "unique_vals, freq = np.unique(matrix2, return_counts=True)\n",
        "print(\"Unique values:\", unique_vals)\n",
        "print(\"Frequencies:\", freq)"
      ],
      "metadata": {
        "id": "n4qUDEBPuMhO",
        "colab": {
          "base_uri": "https://localhost:8080/"
        },
        "outputId": "c51c9790-10ce-4f52-aa04-4b22f4f78215"
      },
      "execution_count": 130,
      "outputs": [
        {
          "output_type": "stream",
          "name": "stdout",
          "text": [
            "Unique values: [0 1 2 4 6 8]\n",
            "Counts: [2 6 1 1 1 1]\n"
          ]
        }
      ]
    },
    {
      "cell_type": "markdown",
      "source": [
        "15. (20б) Тривимірні масиви (тензори) дуже широко використовуються для вирішення задач компʼютерного зору, де один вимір відповідає за висоту зображення у пікселях, другий - за ширину зображення у пікселях, а третій - RGB шар. Значення такого масиву зазвичай знаходяться у проміжку від 0 до 255, що є позначенням для інтенсивності того чи іншого кольору (див. зображення нижче). Пропоную вам, маючи знання з numpy, торкнутись до світу роботи з особливим типом даних - зображеннями. Сподіваюсь, когось з вас це зацікавить.\n",
        "\n",
        "Завдання:\n",
        "1. Визначити змінні для висоти та ширини майбутнього зображення. Присвоїти їм значення 480 та 720 відповідно.\n",
        "2. Визначте змінну для зображення, яка прийматиме тривимірний масив відповідного розміру з пустими значеннями, які ми заповнимо пізніше. Тип даних масиву вкажіть np.uint8 (це спеціальний тип даних для шкали пікселів зображень).\n",
        "3. Розділимо зображення навпіл по висоті. Для цього обчисліть серединний піксель та збережіть його у змінну. Будьте уважні, це число буде використовуватися для слайсингу, де крайні значення не включаються у діапазон.\n",
        "4. Розфарбуємо верхню частину зображення. За допомогою слайсингу на змінній з зображенням, виділіть першу половину пікселів по висоті, залишаючи всі пікселі в рядках по ширині та глибині (всі 3 RGB шари). Та призначте їй кортеж (0, 87, 184), що позначає колір у трьох RGB шарах відповідно.\n",
        "5. Тепер розфарбуємо нижню частину зображення. За допомогою слайсингу на змінній з зображенням, виділіть другу половину пікселів по висоті, залишаючи всі пікселі в рядках по ширині та глибині (всі 3 RGB шари). Та призначте їй кортеж (255, 215, 0), що позначає колір у трьох RGB шарах відповідно. Вже здогадуєтесь, що за зображення ви створюєте?)\n",
        "6. На останньому рядку комірки просто введіть назву змінної з зображенням.\n",
        "\n",
        "\n",
        "![текст посилання](https://drive.google.com/uc?id=15vio4RLXdoRDKvulHvpk7u9RQxbe_qXL)\n",
        "\n",
        "![текст посилання](https://drive.google.com/uc?id=1c7Z9yxNgFoMYFXUmmzNEd9cJDZE2TWov)\n",
        "\n",
        "![текст посилання](https://drive.google.com/uc?id=1d9bT_fqbxCV7_b8c8Cbx2KEGVJUKenqh)\n",
        "\n",
        "![текст посилання](https://drive.google.com/uc?id=16r2XB6MO-E9dltIqsbumtoIQhkRfsbZ_)\n"
      ],
      "metadata": {
        "id": "yE0_eoYOD0so"
      }
    },
    {
      "cell_type": "code",
      "source": [
        "height = 480\n",
        "width = 720\n",
        "\n",
        "image = np.zeros((height, width, 3), dtype=np.uint8)\n",
        "mid_pixel = height // 2\n",
        "\n",
        "image[:mid_pixel, :, :] = (0, 87, 184)\n",
        "image[mid_pixel:, :, :] = (255, 215, 0)\n",
        "image"
      ],
      "metadata": {
        "colab": {
          "base_uri": "https://localhost:8080/",
          "height": 520
        },
        "id": "_b0IMSLEpuWL",
        "outputId": "90571c19-9f7b-469c-804b-b0d61a64afe0"
      },
      "execution_count": 131,
      "outputs": [
        {
          "output_type": "execute_result",
          "data": {
            "text/plain": [
              "array([[[  0,  87, 184],\n",
              "        [  0,  87, 184],\n",
              "        [  0,  87, 184],\n",
              "        ...,\n",
              "        [  0,  87, 184],\n",
              "        [  0,  87, 184],\n",
              "        [  0,  87, 184]],\n",
              "\n",
              "       [[  0,  87, 184],\n",
              "        [  0,  87, 184],\n",
              "        [  0,  87, 184],\n",
              "        ...,\n",
              "        [  0,  87, 184],\n",
              "        [  0,  87, 184],\n",
              "        [  0,  87, 184]],\n",
              "\n",
              "       [[  0,  87, 184],\n",
              "        [  0,  87, 184],\n",
              "        [  0,  87, 184],\n",
              "        ...,\n",
              "        [  0,  87, 184],\n",
              "        [  0,  87, 184],\n",
              "        [  0,  87, 184]],\n",
              "\n",
              "       ...,\n",
              "\n",
              "       [[255, 215,   0],\n",
              "        [255, 215,   0],\n",
              "        [255, 215,   0],\n",
              "        ...,\n",
              "        [255, 215,   0],\n",
              "        [255, 215,   0],\n",
              "        [255, 215,   0]],\n",
              "\n",
              "       [[255, 215,   0],\n",
              "        [255, 215,   0],\n",
              "        [255, 215,   0],\n",
              "        ...,\n",
              "        [255, 215,   0],\n",
              "        [255, 215,   0],\n",
              "        [255, 215,   0]],\n",
              "\n",
              "       [[255, 215,   0],\n",
              "        [255, 215,   0],\n",
              "        [255, 215,   0],\n",
              "        ...,\n",
              "        [255, 215,   0],\n",
              "        [255, 215,   0],\n",
              "        [255, 215,   0]]], dtype=uint8)"
            ],
            "text/html": [
              "<style>\n",
              "      .ndarray_repr .ndarray_raw_data {\n",
              "        display: none;\n",
              "      }\n",
              "      .ndarray_repr.show_array .ndarray_raw_data {\n",
              "        display: block;\n",
              "      }\n",
              "      .ndarray_repr.show_array .ndarray_image_preview {\n",
              "        display: none;\n",
              "      }\n",
              "      </style>\n",
              "      <div id=\"id-e6ae175a-b2ad-4940-b2bf-6a107254c2fa\" class=\"ndarray_repr\"><pre>ndarray (480, 720, 3) <button style=\"padding: 0 2px;\">show data</button></pre><img src=\"data:image/png;base64,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\" class=\"ndarray_image_preview\" /><pre class=\"ndarray_raw_data\">array([[[  0,  87, 184],\n",
              "        [  0,  87, 184],\n",
              "        [  0,  87, 184],\n",
              "        ...,\n",
              "        [  0,  87, 184],\n",
              "        [  0,  87, 184],\n",
              "        [  0,  87, 184]],\n",
              "\n",
              "       [[  0,  87, 184],\n",
              "        [  0,  87, 184],\n",
              "        [  0,  87, 184],\n",
              "        ...,\n",
              "        [  0,  87, 184],\n",
              "        [  0,  87, 184],\n",
              "        [  0,  87, 184]],\n",
              "\n",
              "       [[  0,  87, 184],\n",
              "        [  0,  87, 184],\n",
              "        [  0,  87, 184],\n",
              "        ...,\n",
              "        [  0,  87, 184],\n",
              "        [  0,  87, 184],\n",
              "        [  0,  87, 184]],\n",
              "\n",
              "       ...,\n",
              "\n",
              "       [[255, 215,   0],\n",
              "        [255, 215,   0],\n",
              "        [255, 215,   0],\n",
              "        ...,\n",
              "        [255, 215,   0],\n",
              "        [255, 215,   0],\n",
              "        [255, 215,   0]],\n",
              "\n",
              "       [[255, 215,   0],\n",
              "        [255, 215,   0],\n",
              "        [255, 215,   0],\n",
              "        ...,\n",
              "        [255, 215,   0],\n",
              "        [255, 215,   0],\n",
              "        [255, 215,   0]],\n",
              "\n",
              "       [[255, 215,   0],\n",
              "        [255, 215,   0],\n",
              "        [255, 215,   0],\n",
              "        ...,\n",
              "        [255, 215,   0],\n",
              "        [255, 215,   0],\n",
              "        [255, 215,   0]]], dtype=uint8)</pre></div><script>\n",
              "      (() => {\n",
              "      const titles = ['show data', 'hide data'];\n",
              "      let index = 0\n",
              "      document.querySelector('#id-e6ae175a-b2ad-4940-b2bf-6a107254c2fa button').onclick = (e) => {\n",
              "        document.querySelector('#id-e6ae175a-b2ad-4940-b2bf-6a107254c2fa').classList.toggle('show_array');\n",
              "        index = (++index) % 2;\n",
              "        document.querySelector('#id-e6ae175a-b2ad-4940-b2bf-6a107254c2fa button').textContent = titles[index];\n",
              "        e.preventDefault();\n",
              "        e.stopPropagation();\n",
              "      }\n",
              "      })();\n",
              "    </script>"
            ]
          },
          "metadata": {},
          "execution_count": 131
        }
      ]
    },
    {
      "cell_type": "markdown",
      "source": [
        "Слава Україні! 🇺🇦"
      ],
      "metadata": {
        "id": "TMtLMPzpYEf_"
      }
    },
    {
      "cell_type": "markdown",
      "source": [
        "Героям Слава! 🇺🇦"
      ],
      "metadata": {
        "id": "JV9ROHnKr4Pc"
      }
    }
  ]
}